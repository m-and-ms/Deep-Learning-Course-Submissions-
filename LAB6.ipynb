{
  "nbformat": 4,
  "nbformat_minor": 0,
  "metadata": {
    "colab": {
      "name": "Untitled5.ipynb",
      "version": "0.3.2",
      "provenance": []
    },
    "kernelspec": {
      "name": "python3",
      "display_name": "Python 3"
    }
  },
  "cells": [
    {
      "metadata": {
        "id": "95GFePidqJZ7",
        "colab_type": "code",
        "outputId": "155db545-54b8-4783-e436-8e39798fda1f",
        "colab": {
          "base_uri": "https://localhost:8080/",
          "height": 34
        }
      },
      "cell_type": "code",
      "source": [
        "import sklearn \n",
        "import keras\n",
        "\n",
        "from sklearn import *\n",
        "import numpy as np\n",
        "from numpy import array\n",
        "from numpy import argmax\n",
        "from keras.utils import to_categorical\n",
        "from keras.layers import Dropout\n",
        "from keras.layers import *\n",
        "from sklearn.model_selection import KFold\n",
        "import matplotlib.pyplot as plt\n",
        "from keras.callbacks import *\n",
        "import tensorflow as tf\n",
        "#tf.enable_eager_execution()\n",
        "#tf.set_random_seed(0)\n",
        "#np.random.seed(0)"
      ],
      "execution_count": 2,
      "outputs": [
        {
          "output_type": "stream",
          "text": [
            "Using TensorFlow backend.\n"
          ],
          "name": "stderr"
        }
      ]
    },
    {
      "metadata": {
        "id": "HqMkV-y7qQSh",
        "colab_type": "code",
        "colab": {}
      },
      "cell_type": "code",
      "source": [
        "from keras import models\n",
        "from keras.optimizers import SGD\n",
        "\n",
        "from keras import layers\n",
        "from sklearn.model_selection import cross_val_score\n",
        "from sklearn.preprocessing import LabelEncoder\n",
        "from sklearn.preprocessing import StandardScaler\n",
        "from sklearn.model_selection import train_test_split\n"
      ],
      "execution_count": 0,
      "outputs": []
    },
    {
      "metadata": {
        "id": "RiAdn1cAqi9T",
        "colab_type": "code",
        "outputId": "1f3d04da-fdf1-46af-c73d-eedaebb11670",
        "colab": {
          "base_uri": "https://localhost:8080/",
          "height": 84
        }
      },
      "cell_type": "code",
      "source": [
        "mnist = tf.keras.datasets.mnist\n",
        "(x_train, y_train),(x_test, y_test) = mnist.load_data()\n",
        "x_train, x_test = x_train / 255.0, x_test / 255.0\n",
        "num_instances =x_train.shape\n",
        "print (x_test.shape)\n",
        "print(num_instances)\n",
        "nepochs=range(20)\n"
      ],
      "execution_count": 4,
      "outputs": [
        {
          "output_type": "stream",
          "text": [
            "Downloading data from https://storage.googleapis.com/tensorflow/tf-keras-datasets/mnist.npz\n",
            "11493376/11490434 [==============================] - 0s 0us/step\n",
            "(10000, 28, 28)\n",
            "(60000, 28, 28)\n"
          ],
          "name": "stdout"
        }
      ]
    },
    {
      "metadata": {
        "id": "5Pas26e_qn0y",
        "colab_type": "code",
        "colab": {}
      },
      "cell_type": "code",
      "source": [
        "\n",
        "\n",
        "model = tf.keras.models.Sequential([\n",
        "  tf.keras.layers.Flatten(input_shape=(28, 28)),\n",
        "  tf.keras.layers.Dense(512, activation=tf.nn.relu),\n",
        "  tf.keras.layers.Dropout(0.2),\n",
        "  tf.keras.layers.Dense(10, activation=tf.nn.softmax)\n",
        "])\n",
        "model.compile(optimizer='adam',\n",
        "              loss='sparse_categorical_crossentropy',\n",
        "              metrics=['accuracy'])\n",
        "\n",
        "history=model.fit(x_train, y_train, epochs=20, \n",
        "                      verbose=1, \n",
        "                      batch_size=50,  validation_split=0.3, shuffle=True\n",
        "                      )\n"
      ],
      "execution_count": 0,
      "outputs": []
    },
    {
      "metadata": {
        "id": "ZNsaDVFmsw-B",
        "colab_type": "code",
        "colab": {}
      },
      "cell_type": "code",
      "source": [
        "plt.figure()\n",
        "plt.plot(nepochs, history.history['loss'], label = \"train_loss\")\n",
        "plt.plot(nepochs, history.history['acc'], label = \"train_acc\")\n",
        "plt.plot(nepochs, history.history['val_loss'], label = \"val_loss\")\n",
        "plt.plot(nepochs, history.history['val_acc'], label = \"val_acc\")\n",
        "plt.title(\"Training Loss and Accuracy [Epoch {}]\")\n",
        "plt.xlabel(\"Epoch #\")\n",
        "plt.ylabel(\"Loss/Accuracy\")\n",
        "plt.legend()\n"
      ],
      "execution_count": 0,
      "outputs": []
    },
    {
      "metadata": {
        "id": "WnwCsmietTpt",
        "colab_type": "code",
        "outputId": "10f07e24-ae5d-4321-ac7f-d4a8afeca4c1",
        "colab": {
          "base_uri": "https://localhost:8080/",
          "height": 50
        }
      },
      "cell_type": "code",
      "source": [
        "model.evaluate(x_test, y_test)"
      ],
      "execution_count": 0,
      "outputs": [
        {
          "output_type": "stream",
          "text": [
            "10000/10000 [==============================] - 1s 61us/sample - loss: 0.0912 - acc: 0.9806\n"
          ],
          "name": "stdout"
        },
        {
          "output_type": "execute_result",
          "data": {
            "text/plain": [
              "[0.09122796299801411, 0.9806]"
            ]
          },
          "metadata": {
            "tags": []
          },
          "execution_count": 12
        }
      ]
    },
    {
      "metadata": {
        "id": "mU0uxNQdu5Ig",
        "colab_type": "code",
        "colab": {
          "base_uri": "https://localhost:8080/",
          "height": 706
        },
        "outputId": "2cdc3220-8609-4368-c668-5c04dc8e9b03"
      },
      "cell_type": "code",
      "source": [
        "\n",
        "model = tf.keras.models.Sequential([\n",
        "  tf.keras.layers.Flatten(input_shape=(28, 28)),\n",
        "  tf.keras.layers.Dense(512, activation=tf.nn.relu),\n",
        "  tf.keras.layers.Dropout(0.2),\n",
        "  tf.keras.layers.Dense(10, activation=tf.nn.softmax)\n",
        "])\n",
        "sgd = SGD(lr=0.01, momentum=0.8, decay=0.0, nesterov=False)\n",
        "\n",
        "\n",
        "model.compile(optimizer='sgd',\n",
        "              loss='sparse_categorical_crossentropy',\n",
        "              metrics=['accuracy'])\n",
        "\n",
        "history=model.fit(x_train, y_train, epochs=20, \n",
        "                      verbose=1, \n",
        "                      batch_size=2,  validation_split=0.3, shuffle=True)\n",
        "                      \n"
      ],
      "execution_count": 7,
      "outputs": [
        {
          "output_type": "stream",
          "text": [
            "Train on 42000 samples, validate on 18000 samples\n",
            "Epoch 1/20\n",
            "42000/42000 [==============================] - 81s 2ms/sample - loss: 0.2898 - acc: 0.9158 - val_loss: 0.1634 - val_acc: 0.9538\n",
            "Epoch 2/20\n",
            "42000/42000 [==============================] - 79s 2ms/sample - loss: 0.1347 - acc: 0.9603 - val_loss: 0.1295 - val_acc: 0.9619\n",
            "Epoch 3/20\n",
            "42000/42000 [==============================] - 79s 2ms/sample - loss: 0.0946 - acc: 0.9721 - val_loss: 0.1032 - val_acc: 0.9694\n",
            "Epoch 4/20\n",
            "42000/42000 [==============================] - 82s 2ms/sample - loss: 0.0744 - acc: 0.9777 - val_loss: 0.0946 - val_acc: 0.9728\n",
            "Epoch 5/20\n",
            "42000/42000 [==============================] - 87s 2ms/sample - loss: 0.0578 - acc: 0.9830 - val_loss: 0.0853 - val_acc: 0.9752\n",
            "Epoch 6/20\n",
            "42000/42000 [==============================] - 85s 2ms/sample - loss: 0.0491 - acc: 0.9855 - val_loss: 0.0843 - val_acc: 0.9762\n",
            "Epoch 7/20\n",
            "42000/42000 [==============================] - 85s 2ms/sample - loss: 0.0416 - acc: 0.9875 - val_loss: 0.0811 - val_acc: 0.9761\n",
            "Epoch 8/20\n",
            "42000/42000 [==============================] - 88s 2ms/sample - loss: 0.0334 - acc: 0.9903 - val_loss: 0.0811 - val_acc: 0.9772\n",
            "Epoch 9/20\n",
            "42000/42000 [==============================] - 85s 2ms/sample - loss: 0.0294 - acc: 0.9917 - val_loss: 0.0758 - val_acc: 0.9784\n",
            "Epoch 10/20\n",
            "42000/42000 [==============================] - 83s 2ms/sample - loss: 0.0261 - acc: 0.9925 - val_loss: 0.0826 - val_acc: 0.9764\n",
            "Epoch 11/20\n",
            "42000/42000 [==============================] - 85s 2ms/sample - loss: 0.0211 - acc: 0.9936 - val_loss: 0.0766 - val_acc: 0.9788\n",
            "Epoch 12/20\n",
            "42000/42000 [==============================] - 84s 2ms/sample - loss: 0.0176 - acc: 0.9952 - val_loss: 0.0764 - val_acc: 0.9793\n",
            "Epoch 13/20\n",
            "42000/42000 [==============================] - 84s 2ms/sample - loss: 0.0155 - acc: 0.9959 - val_loss: 0.0764 - val_acc: 0.9797\n",
            "Epoch 14/20\n",
            "42000/42000 [==============================] - 84s 2ms/sample - loss: 0.0141 - acc: 0.9967 - val_loss: 0.0736 - val_acc: 0.9802\n",
            "Epoch 15/20\n",
            "42000/42000 [==============================] - 86s 2ms/sample - loss: 0.0127 - acc: 0.9969 - val_loss: 0.0797 - val_acc: 0.9784\n",
            "Epoch 16/20\n",
            "42000/42000 [==============================] - 85s 2ms/sample - loss: 0.0110 - acc: 0.9975 - val_loss: 0.0751 - val_acc: 0.9796\n",
            "Epoch 17/20\n",
            "42000/42000 [==============================] - 85s 2ms/sample - loss: 0.0107 - acc: 0.9974 - val_loss: 0.0756 - val_acc: 0.9794\n",
            "Epoch 18/20\n",
            "42000/42000 [==============================] - 84s 2ms/sample - loss: 0.0099 - acc: 0.9976 - val_loss: 0.0779 - val_acc: 0.9801\n",
            "Epoch 19/20\n",
            "42000/42000 [==============================] - 86s 2ms/sample - loss: 0.0080 - acc: 0.9985 - val_loss: 0.0754 - val_acc: 0.9809\n",
            "Epoch 20/20\n",
            "42000/42000 [==============================] - 85s 2ms/sample - loss: 0.0081 - acc: 0.9984 - val_loss: 0.0767 - val_acc: 0.9797\n"
          ],
          "name": "stdout"
        }
      ]
    },
    {
      "metadata": {
        "id": "IlXP3fGQMigV",
        "colab_type": "code",
        "colab": {
          "base_uri": "https://localhost:8080/",
          "height": 50
        },
        "outputId": "6a7145c7-b0aa-4897-a53c-b82f58f5c832"
      },
      "cell_type": "code",
      "source": [
        "model.evaluate(x_test, y_test)"
      ],
      "execution_count": 8,
      "outputs": [
        {
          "output_type": "stream",
          "text": [
            "10000/10000 [==============================] - 1s 64us/sample - loss: 0.0633 - acc: 0.9817\n"
          ],
          "name": "stdout"
        },
        {
          "output_type": "execute_result",
          "data": {
            "text/plain": [
              "[0.06326629450203182, 0.9817]"
            ]
          },
          "metadata": {
            "tags": []
          },
          "execution_count": 8
        }
      ]
    },
    {
      "metadata": {
        "id": "wnRiLWIkv2vr",
        "colab_type": "code",
        "outputId": "4ee7e234-05aa-4fea-e5cd-97fa10613637",
        "colab": {
          "base_uri": "https://localhost:8080/",
          "height": 393
        }
      },
      "cell_type": "code",
      "source": [
        "plt.figure()\n",
        "plt.plot(nepochs, history.history['loss'], label = \"train_loss\")\n",
        "plt.plot(nepochs, history.history['acc'], label = \"train_acc\")\n",
        "plt.plot(nepochs, history.history['val_loss'], label = \"val_loss\")\n",
        "plt.plot(nepochs, history.history['val_acc'], label = \"val_acc\")\n",
        "plt.title(\"Training Loss and Accuracy [Epoch {}]\")\n",
        "plt.xlabel(\"Epoch #\")\n",
        "plt.ylabel(\"Loss/Accuracy\")\n",
        "plt.legend()\n"
      ],
      "execution_count": 9,
      "outputs": [
        {
          "output_type": "execute_result",
          "data": {
            "text/plain": [
              "<matplotlib.legend.Legend at 0x7f43d2d76860>"
            ]
          },
          "metadata": {
            "tags": []
          },
          "execution_count": 9
        },
        {
          "output_type": "display_data",
          "data": {
            "image/png": "[encoded data removed]",
            "text/plain": [
              "<Figure size 576x396 with 1 Axes>"
            ]
          },
          "metadata": {
            "tags": []
          }
        }
      ]
    },
    {
      "metadata": {
        "id": "hlHPZHzl9Lt5",
        "colab_type": "code",
        "outputId": "5335dc8a-db48-40e1-d6b0-50993fd3e245",
        "colab": {
          "base_uri": "https://localhost:8080/",
          "height": 706
        }
      },
      "cell_type": "code",
      "source": [
        "rms=keras.optimizers.RMSprop(lr=0.01, rho=0.9, epsilon=1e-08)\n",
        "model.compile(optimizer='RMSprop',\n",
        "              loss='sparse_categorical_crossentropy',\n",
        "              metrics=['accuracy'])\n",
        "\n",
        "history=model.fit(x_train, y_train, epochs=20, \n",
        "                      verbose=1, \n",
        "                      batch_size=50,  validation_split=0.3, shuffle=True)"
      ],
      "execution_count": 10,
      "outputs": [
        {
          "output_type": "stream",
          "text": [
            "Train on 42000 samples, validate on 18000 samples\n",
            "Epoch 1/20\n",
            "42000/42000 [==============================] - 8s 190us/sample - loss: 0.0243 - acc: 0.9914 - val_loss: 0.0926 - val_acc: 0.9769\n",
            "Epoch 2/20\n",
            "42000/42000 [==============================] - 8s 183us/sample - loss: 0.0237 - acc: 0.9922 - val_loss: 0.1052 - val_acc: 0.9767\n",
            "Epoch 3/20\n",
            "42000/42000 [==============================] - 8s 181us/sample - loss: 0.0219 - acc: 0.9927 - val_loss: 0.1057 - val_acc: 0.9776\n",
            "Epoch 4/20\n",
            "42000/42000 [==============================] - 8s 184us/sample - loss: 0.0184 - acc: 0.9938 - val_loss: 0.1106 - val_acc: 0.9783\n",
            "Epoch 5/20\n",
            "42000/42000 [==============================] - 8s 183us/sample - loss: 0.0174 - acc: 0.9944 - val_loss: 0.1095 - val_acc: 0.9772\n",
            "Epoch 6/20\n",
            "42000/42000 [==============================] - 8s 185us/sample - loss: 0.0155 - acc: 0.9945 - val_loss: 0.1120 - val_acc: 0.9776\n",
            "Epoch 7/20\n",
            "42000/42000 [==============================] - 8s 186us/sample - loss: 0.0129 - acc: 0.9956 - val_loss: 0.1147 - val_acc: 0.9784\n",
            "Epoch 8/20\n",
            "42000/42000 [==============================] - 8s 183us/sample - loss: 0.0132 - acc: 0.9955 - val_loss: 0.1270 - val_acc: 0.9770\n",
            "Epoch 9/20\n",
            "42000/42000 [==============================] - 8s 183us/sample - loss: 0.0136 - acc: 0.9957 - val_loss: 0.1171 - val_acc: 0.9787\n",
            "Epoch 10/20\n",
            "42000/42000 [==============================] - 8s 189us/sample - loss: 0.0117 - acc: 0.9964 - val_loss: 0.1362 - val_acc: 0.9758\n",
            "Epoch 11/20\n",
            "42000/42000 [==============================] - 8s 184us/sample - loss: 0.0108 - acc: 0.9966 - val_loss: 0.1246 - val_acc: 0.9788\n",
            "Epoch 12/20\n",
            "42000/42000 [==============================] - 8s 188us/sample - loss: 0.0083 - acc: 0.9971 - val_loss: 0.1304 - val_acc: 0.9774\n",
            "Epoch 13/20\n",
            "42000/42000 [==============================] - 8s 185us/sample - loss: 0.0093 - acc: 0.9970 - val_loss: 0.1230 - val_acc: 0.9797\n",
            "Epoch 14/20\n",
            "42000/42000 [==============================] - 8s 181us/sample - loss: 0.0079 - acc: 0.9972 - val_loss: 0.1358 - val_acc: 0.9783\n",
            "Epoch 15/20\n",
            "42000/42000 [==============================] - 8s 182us/sample - loss: 0.0079 - acc: 0.9976 - val_loss: 0.1378 - val_acc: 0.9786\n",
            "Epoch 16/20\n",
            "42000/42000 [==============================] - 8s 184us/sample - loss: 0.0081 - acc: 0.9973 - val_loss: 0.1382 - val_acc: 0.9781\n",
            "Epoch 17/20\n",
            "42000/42000 [==============================] - 8s 180us/sample - loss: 0.0068 - acc: 0.9976 - val_loss: 0.1313 - val_acc: 0.9792\n",
            "Epoch 18/20\n",
            "42000/42000 [==============================] - 8s 180us/sample - loss: 0.0068 - acc: 0.9976 - val_loss: 0.1401 - val_acc: 0.9788\n",
            "Epoch 19/20\n",
            "42000/42000 [==============================] - 7s 175us/sample - loss: 0.0064 - acc: 0.9977 - val_loss: 0.1468 - val_acc: 0.9785\n",
            "Epoch 20/20\n",
            "42000/42000 [==============================] - 8s 181us/sample - loss: 0.0065 - acc: 0.9978 - val_loss: 0.1433 - val_acc: 0.9791\n"
          ],
          "name": "stdout"
        }
      ]
    },
    {
      "metadata": {
        "id": "xn_9HlZk-JQ3",
        "colab_type": "code",
        "outputId": "e28da670-6cb3-4b49-d302-98f86608f692",
        "colab": {
          "base_uri": "https://localhost:8080/",
          "height": 393
        }
      },
      "cell_type": "code",
      "source": [
        "plt.figure()\n",
        "plt.plot(nepochs, history.history['loss'], label = \"train_loss\")\n",
        "plt.plot(nepochs, history.history['acc'], label = \"train_acc\")\n",
        "plt.plot(nepochs, history.history['val_loss'], label = \"val_loss\")\n",
        "plt.plot(nepochs, history.history['val_acc'], label = \"val_acc\")\n",
        "plt.title(\"Training Loss and Accuracy [Epoch {}]\")\n",
        "plt.xlabel(\"Epoch #\")\n",
        "plt.ylabel(\"Loss/Accuracy\")\n",
        "plt.legend()\n"
      ],
      "execution_count": 11,
      "outputs": [
        {
          "output_type": "execute_result",
          "data": {
            "text/plain": [
              "<matplotlib.legend.Legend at 0x7f43d2cf26a0>"
            ]
          },
          "metadata": {
            "tags": []
          },
          "execution_count": 11
        },
        {
          "output_type": "display_data",
          "data": {
            "image/png": "[encoded data removed]",
            "text/plain": [
              "<Figure size 576x396 with 1 Axes>"
            ]
          },
          "metadata": {
            "tags": []
          }
        }
      ]
    }
  ]
}