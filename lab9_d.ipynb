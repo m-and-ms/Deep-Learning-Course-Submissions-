{
  "nbformat": 4,
  "nbformat_minor": 0,
  "metadata": {
    "colab": {
      "name": "Copy of Lab9_timeseries_students.ipynb",
      "version": "0.3.2",
      "provenance": [],
      "collapsed_sections": []
    },
    "kernelspec": {
      "name": "python3",
      "display_name": "Python 3"
    },
    "accelerator": "GPU"
  },
  "cells": [
    {
      "metadata": {
        "id": "bFxlUjcy3Yrz",
        "colab_type": "text"
      },
      "cell_type": "markdown",
      "source": [
        "#Time Series Analysis with LSTM\n",
        "\n",
        "Data downloaded from: https://yhoo.it/2G694yC"
      ]
    },
    {
      "metadata": {
        "id": "8BYse-gU1z3j",
        "colab_type": "code",
        "outputId": "db55534a-a5b6-4d75-d34e-6f2acbbd79be",
        "colab": {
          "base_uri": "https://localhost:8080/",
          "height": 34
        }
      },
      "cell_type": "code",
      "source": [
        "import matplotlib.pyplot as plt\n",
        "import matplotlib as mplt\n",
        "\n",
        "import pandas as pd  \n",
        "import numpy as np  \n",
        "\n",
        "from keras.models import Sequential  \n",
        "from keras.layers import Dense  \n",
        "from keras.layers import LSTM \n",
        "from keras.layers import Dropout\n",
        "\n",
        "from google.colab import files"
      ],
      "execution_count": 0,
      "outputs": [
        {
          "output_type": "stream",
          "text": [
            "Using TensorFlow backend.\n"
          ],
          "name": "stderr"
        }
      ]
    },
    {
      "metadata": {
        "id": "P9AiA4uGOwf1",
        "colab_type": "text"
      },
      "cell_type": "markdown",
      "source": [
        "###Loading Dataset and Visualization"
      ]
    },
    {
      "metadata": {
        "id": "NnphM9ox37Nt",
        "colab_type": "code",
        "outputId": "94d5d02f-751c-4fdb-b210-0ef4ea961825",
        "colab": {
          "resources": {
            "http://localhost:8080/nbextensions/google.colab/files.js": {
              "data": "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",
              "ok": true,
              "headers": [
                [
                  "content-type",
                  "application/javascript"
                ]
              ],
              "status": 200,
              "status_text": ""
            }
          },
          "base_uri": "https://localhost:8080/",
          "height": 109
        }
      },
      "cell_type": "code",
      "source": [
        "#Upload file from local drive\n",
        "files.upload()\n",
        "\n",
        "#Training data in the period from 01/01/2013 to 31/12/2017\n",
        "data_train = pd.read_csv(r'AAPL_train.csv')"
      ],
      "execution_count": 0,
      "outputs": [
        {
          "output_type": "display_data",
          "data": {
            "text/html": [
              "\n",
              "     <input type=\"file\" id=\"files-f53e8054-c1f8-48c2-97e4-6fffb202f8ba\" name=\"files[]\" multiple disabled />\n",
              "     <output id=\"result-f53e8054-c1f8-48c2-97e4-6fffb202f8ba\">\n",
              "      Upload widget is only available when the cell has been executed in the\n",
              "      current browser session. Please rerun this cell to enable.\n",
              "      </output>\n",
              "      <script src=\"/nbextensions/google.colab/files.js\"></script> "
            ],
            "text/plain": [
              "<IPython.core.display.HTML object>"
            ]
          },
          "metadata": {
            "tags": []
          }
        },
        {
          "output_type": "stream",
          "text": [
            "Saving AAPL_test.csv to AAPL_test.csv\n",
            "Saving AAPL_train.csv to AAPL_train.csv\n"
          ],
          "name": "stdout"
        }
      ]
    },
    {
      "metadata": {
        "id": "kRo-flAB4RN3",
        "colab_type": "code",
        "outputId": "fe0d8190-f03b-43cd-96a2-a031a84e626e",
        "colab": {
          "base_uri": "https://localhost:8080/",
          "height": 142
        }
      },
      "cell_type": "code",
      "source": [
        "#Visualize data imported from the csv file\n",
        "data_train.head(3)"
      ],
      "execution_count": 0,
      "outputs": [
        {
          "output_type": "execute_result",
          "data": {
            "text/html": [
              "<div>\n",
              "<style scoped>\n",
              "    .dataframe tbody tr th:only-of-type {\n",
              "        vertical-align: middle;\n",
              "    }\n",
              "\n",
              "    .dataframe tbody tr th {\n",
              "        vertical-align: top;\n",
              "    }\n",
              "\n",
              "    .dataframe thead th {\n",
              "        text-align: right;\n",
              "    }\n",
              "</style>\n",
              "<table border=\"1\" class=\"dataframe\">\n",
              "  <thead>\n",
              "    <tr style=\"text-align: right;\">\n",
              "      <th></th>\n",
              "      <th>Date</th>\n",
              "      <th>Open</th>\n",
              "      <th>High</th>\n",
              "      <th>Low</th>\n",
              "      <th>Close</th>\n",
              "      <th>Adj Close</th>\n",
              "      <th>Volume</th>\n",
              "    </tr>\n",
              "  </thead>\n",
              "  <tbody>\n",
              "    <tr>\n",
              "      <th>0</th>\n",
              "      <td>2012-12-31</td>\n",
              "      <td>72.932854</td>\n",
              "      <td>76.485718</td>\n",
              "      <td>72.714287</td>\n",
              "      <td>76.024284</td>\n",
              "      <td>53.974899</td>\n",
              "      <td>164873100</td>\n",
              "    </tr>\n",
              "    <tr>\n",
              "      <th>1</th>\n",
              "      <td>2013-01-02</td>\n",
              "      <td>79.117142</td>\n",
              "      <td>79.285713</td>\n",
              "      <td>77.375717</td>\n",
              "      <td>78.432854</td>\n",
              "      <td>55.684914</td>\n",
              "      <td>140129500</td>\n",
              "    </tr>\n",
              "    <tr>\n",
              "      <th>2</th>\n",
              "      <td>2013-01-03</td>\n",
              "      <td>78.268570</td>\n",
              "      <td>78.524284</td>\n",
              "      <td>77.285713</td>\n",
              "      <td>77.442856</td>\n",
              "      <td>54.982059</td>\n",
              "      <td>88241300</td>\n",
              "    </tr>\n",
              "  </tbody>\n",
              "</table>\n",
              "</div>"
            ],
            "text/plain": [
              "         Date       Open       High        Low      Close  Adj Close  \\\n",
              "0  2012-12-31  72.932854  76.485718  72.714287  76.024284  53.974899   \n",
              "1  2013-01-02  79.117142  79.285713  77.375717  78.432854  55.684914   \n",
              "2  2013-01-03  78.268570  78.524284  77.285713  77.442856  54.982059   \n",
              "\n",
              "      Volume  \n",
              "0  164873100  \n",
              "1  140129500  \n",
              "2   88241300  "
            ]
          },
          "metadata": {
            "tags": []
          },
          "execution_count": 3
        }
      ]
    },
    {
      "metadata": {
        "id": "QxUzHiDz4dhe",
        "colab_type": "code",
        "outputId": "478f2bcd-d31b-453b-ec5b-9db1d7de8bf7",
        "colab": {
          "base_uri": "https://localhost:8080/",
          "height": 300
        }
      },
      "cell_type": "code",
      "source": [
        "#Plot data training data\n",
        "plt.plot(data_train['Open'])\n",
        "plt.xlabel('Day number #')\n",
        "plt.ylabel('Apple opening stock price')"
      ],
      "execution_count": 0,
      "outputs": [
        {
          "output_type": "execute_result",
          "data": {
            "text/plain": [
              "Text(0, 0.5, 'Apple opening stock price')"
            ]
          },
          "metadata": {
            "tags": []
          },
          "execution_count": 4
        },
        {
          "output_type": "display_data",
          "data": {
            "image/png": "[encoded data removed]",
            "text/plain": [
              "<Figure size 432x288 with 1 Axes>"
            ]
          },
          "metadata": {
            "tags": []
          }
        }
      ]
    },
    {
      "metadata": {
        "id": "owE5tSlkO5pP",
        "colab_type": "text"
      },
      "cell_type": "markdown",
      "source": [
        "###Preprocessing"
      ]
    },
    {
      "metadata": {
        "id": "jf_HHkmQEvE6",
        "colab_type": "code",
        "colab": {}
      },
      "cell_type": "code",
      "source": [
        "#Normalize features\n",
        "from sklearn.preprocessing import MinMaxScaler \n",
        "\n",
        "data_train_open = np.asarray(data_train['Open'].values).reshape(-1,1) #To be able to use MinMaxScaler\n",
        "\n",
        "scaler = MinMaxScaler(feature_range = (0, 1))\n",
        "data_train_open_scaled = scaler.fit_transform(data_train_open)"
      ],
      "execution_count": 0,
      "outputs": []
    },
    {
      "metadata": {
        "id": "W5HwsQiHH1IT",
        "colab_type": "code",
        "colab": {
          "base_uri": "https://localhost:8080/",
          "height": 34
        },
        "outputId": "23e971f7-d862-4ab6-933f-5c67fc6b35bd"
      },
      "cell_type": "code",
      "source": [
        "#Preparing training data features and labels\n",
        "pred_period = 60; # prediction over the last pred_period days\n",
        "xtrain = []  \n",
        "ytrain = []  \n",
        "print(len(data_train_open_scaled))\n",
        "for i in range(pred_period, len(data_train_open_scaled)):  \n",
        "    xtrain.append(data_train_open_scaled[i-pred_period:i, 0])\n",
        "    ytrain.append(data_train_open_scaled[i, 0])\n",
        "\n",
        "#Converting xtrain and ytrain to numpy arrays    \n",
        "xtrain, ytrain = np.array(xtrain), np.array(ytrain)\n",
        "\n",
        "#Reshaping xtrain to be accepted by LSTM module\n",
        "xtrain = xtrain.reshape(-1,pred_period,1)"
      ],
      "execution_count": 15,
      "outputs": [
        {
          "output_type": "stream",
          "text": [
            "1260\n"
          ],
          "name": "stdout"
        }
      ]
    },
    {
      "metadata": {
        "id": "w4a-5VeiO-1n",
        "colab_type": "text"
      },
      "cell_type": "markdown",
      "source": [
        "###Building Model"
      ]
    },
    {
      "metadata": {
        "id": "rWHGXMXdMSCN",
        "colab_type": "code",
        "outputId": "349ede83-df4d-4b96-9bad-e7cf62d49f13",
        "colab": {
          "base_uri": "https://localhost:8080/",
          "height": 3541
        }
      },
      "cell_type": "code",
      "source": [
        "#Building the model\n",
        "model = Sequential()\n",
        "model.add(LSTM(units=50, return_sequences=True, input_shape=(pred_period, 1)))\n",
        "#model.add(Dropout(0.2))  \n",
        "model.add(LSTM(units=50, return_sequences=True))\n",
        "#model.add(Dropout(0.2))  \n",
        "model.add(LSTM(units=50, return_sequences=True))\n",
        "#model.add(Dropout(0.2))  \n",
        "model.add(LSTM(units=50))\n",
        "#model.add(Dropout(0.2))  \n",
        "model.add(Dense(units = 1))  \n",
        "\n",
        "model.compile(optimizer = 'adam', loss = 'mean_squared_error')  \n",
        "\n",
        "model.fit(xtrain, ytrain, epochs = 100, batch_size = 64)  "
      ],
      "execution_count": 17,
      "outputs": [
        {
          "output_type": "stream",
          "text": [
            "Epoch 1/100\n",
            "1200/1200 [==============================] - 10s 9ms/step - loss: 0.0868\n",
            "Epoch 2/100\n",
            "1200/1200 [==============================] - 8s 7ms/step - loss: 0.0103\n",
            "Epoch 3/100\n",
            "1200/1200 [==============================] - 8s 7ms/step - loss: 0.0030\n",
            "Epoch 4/100\n",
            "1200/1200 [==============================] - 8s 7ms/step - loss: 0.0020\n",
            "Epoch 5/100\n",
            "1200/1200 [==============================] - 8s 7ms/step - loss: 0.0019\n",
            "Epoch 6/100\n",
            "1200/1200 [==============================] - 8s 7ms/step - loss: 0.0018\n",
            "Epoch 7/100\n",
            "1200/1200 [==============================] - 8s 7ms/step - loss: 0.0018\n",
            "Epoch 8/100\n",
            "1200/1200 [==============================] - 8s 7ms/step - loss: 0.0017\n",
            "Epoch 9/100\n",
            "1200/1200 [==============================] - 8s 7ms/step - loss: 0.0017\n",
            "Epoch 10/100\n",
            "1200/1200 [==============================] - 8s 7ms/step - loss: 0.0018\n",
            "Epoch 11/100\n",
            "1200/1200 [==============================] - 8s 7ms/step - loss: 0.0017\n",
            "Epoch 12/100\n",
            "1200/1200 [==============================] - 8s 7ms/step - loss: 0.0015\n",
            "Epoch 13/100\n",
            "1200/1200 [==============================] - 8s 7ms/step - loss: 0.0014\n",
            "Epoch 14/100\n",
            "1200/1200 [==============================] - 8s 7ms/step - loss: 0.0014\n",
            "Epoch 15/100\n",
            "1200/1200 [==============================] - 8s 7ms/step - loss: 0.0013\n",
            "Epoch 16/100\n",
            "1200/1200 [==============================] - 8s 7ms/step - loss: 0.0012\n",
            "Epoch 17/100\n",
            "1200/1200 [==============================] - 8s 7ms/step - loss: 0.0012\n",
            "Epoch 18/100\n",
            "1200/1200 [==============================] - 8s 6ms/step - loss: 0.0013\n",
            "Epoch 19/100\n",
            "1200/1200 [==============================] - 8s 6ms/step - loss: 0.0011\n",
            "Epoch 20/100\n",
            "1200/1200 [==============================] - 8s 7ms/step - loss: 0.0010\n",
            "Epoch 21/100\n",
            "1200/1200 [==============================] - 8s 7ms/step - loss: 0.0010\n",
            "Epoch 22/100\n",
            "1200/1200 [==============================] - 8s 7ms/step - loss: 9.5058e-04\n",
            "Epoch 23/100\n",
            "1200/1200 [==============================] - 8s 6ms/step - loss: 9.9236e-04\n",
            "Epoch 24/100\n",
            "1200/1200 [==============================] - 8s 7ms/step - loss: 9.1093e-04\n",
            "Epoch 25/100\n",
            "1200/1200 [==============================] - 8s 6ms/step - loss: 8.9133e-04\n",
            "Epoch 26/100\n",
            "1200/1200 [==============================] - 8s 7ms/step - loss: 8.5673e-04\n",
            "Epoch 27/100\n",
            "1200/1200 [==============================] - 8s 6ms/step - loss: 8.2603e-04\n",
            "Epoch 28/100\n",
            "1200/1200 [==============================] - 8s 6ms/step - loss: 0.0010\n",
            "Epoch 29/100\n",
            "1200/1200 [==============================] - 8s 6ms/step - loss: 9.6878e-04\n",
            "Epoch 30/100\n",
            "1200/1200 [==============================] - 8s 6ms/step - loss: 8.5370e-04\n",
            "Epoch 31/100\n",
            "1200/1200 [==============================] - 8s 7ms/step - loss: 8.2732e-04\n",
            "Epoch 32/100\n",
            "1200/1200 [==============================] - 8s 6ms/step - loss: 9.6890e-04\n",
            "Epoch 33/100\n",
            "1200/1200 [==============================] - 8s 7ms/step - loss: 8.1048e-04\n",
            "Epoch 34/100\n",
            "1200/1200 [==============================] - 8s 7ms/step - loss: 7.6331e-04\n",
            "Epoch 35/100\n",
            "1200/1200 [==============================] - 8s 7ms/step - loss: 7.6104e-04\n",
            "Epoch 36/100\n",
            "1200/1200 [==============================] - 8s 6ms/step - loss: 7.4969e-04\n",
            "Epoch 37/100\n",
            "1200/1200 [==============================] - 8s 7ms/step - loss: 7.9510e-04\n",
            "Epoch 38/100\n",
            "1200/1200 [==============================] - 8s 7ms/step - loss: 7.7360e-04\n",
            "Epoch 39/100\n",
            "1200/1200 [==============================] - 8s 7ms/step - loss: 7.8248e-04\n",
            "Epoch 40/100\n",
            "1200/1200 [==============================] - 8s 7ms/step - loss: 7.6789e-04\n",
            "Epoch 41/100\n",
            "1200/1200 [==============================] - 8s 7ms/step - loss: 7.0959e-04\n",
            "Epoch 42/100\n",
            "1200/1200 [==============================] - 8s 7ms/step - loss: 6.7593e-04\n",
            "Epoch 43/100\n",
            "1200/1200 [==============================] - 8s 6ms/step - loss: 6.9452e-04\n",
            "Epoch 44/100\n",
            "1200/1200 [==============================] - 8s 7ms/step - loss: 6.4655e-04\n",
            "Epoch 45/100\n",
            "1200/1200 [==============================] - 8s 6ms/step - loss: 6.5350e-04\n",
            "Epoch 46/100\n",
            "1200/1200 [==============================] - 8s 6ms/step - loss: 7.0490e-04\n",
            "Epoch 47/100\n",
            "1200/1200 [==============================] - 8s 6ms/step - loss: 7.9109e-04\n",
            "Epoch 48/100\n",
            "1200/1200 [==============================] - 8s 7ms/step - loss: 6.5190e-04\n",
            "Epoch 49/100\n",
            "1200/1200 [==============================] - 8s 7ms/step - loss: 6.4224e-04\n",
            "Epoch 50/100\n",
            "1200/1200 [==============================] - 8s 7ms/step - loss: 6.1442e-04\n",
            "Epoch 51/100\n",
            "1200/1200 [==============================] - 8s 6ms/step - loss: 5.6901e-04\n",
            "Epoch 52/100\n",
            "1200/1200 [==============================] - 8s 6ms/step - loss: 5.6088e-04\n",
            "Epoch 53/100\n",
            "1200/1200 [==============================] - 8s 7ms/step - loss: 5.5101e-04\n",
            "Epoch 54/100\n",
            "1200/1200 [==============================] - 8s 7ms/step - loss: 5.4231e-04\n",
            "Epoch 55/100\n",
            "1200/1200 [==============================] - 8s 7ms/step - loss: 5.2771e-04\n",
            "Epoch 56/100\n",
            "1200/1200 [==============================] - 8s 7ms/step - loss: 5.9671e-04\n",
            "Epoch 57/100\n",
            "1200/1200 [==============================] - 8s 7ms/step - loss: 5.5134e-04\n",
            "Epoch 58/100\n",
            "1200/1200 [==============================] - 8s 7ms/step - loss: 5.1417e-04\n",
            "Epoch 59/100\n",
            "1200/1200 [==============================] - 8s 7ms/step - loss: 4.9677e-04\n",
            "Epoch 60/100\n",
            "1200/1200 [==============================] - 8s 7ms/step - loss: 5.8966e-04\n",
            "Epoch 61/100\n",
            "1200/1200 [==============================] - 8s 6ms/step - loss: 5.2297e-04\n",
            "Epoch 62/100\n",
            "1200/1200 [==============================] - 8s 6ms/step - loss: 5.3462e-04\n",
            "Epoch 63/100\n",
            "1200/1200 [==============================] - 8s 6ms/step - loss: 6.0336e-04\n",
            "Epoch 64/100\n",
            "1200/1200 [==============================] - 8s 6ms/step - loss: 5.9116e-04\n",
            "Epoch 65/100\n",
            "1200/1200 [==============================] - 8s 6ms/step - loss: 5.7448e-04\n",
            "Epoch 66/100\n",
            "1200/1200 [==============================] - 8s 6ms/step - loss: 5.8680e-04\n",
            "Epoch 67/100\n",
            "1200/1200 [==============================] - 8s 6ms/step - loss: 5.1867e-04\n",
            "Epoch 68/100\n",
            "1200/1200 [==============================] - 8s 6ms/step - loss: 4.4631e-04\n",
            "Epoch 69/100\n",
            "1200/1200 [==============================] - 8s 6ms/step - loss: 4.8451e-04\n",
            "Epoch 70/100\n",
            "1200/1200 [==============================] - 8s 7ms/step - loss: 5.9514e-04\n",
            "Epoch 71/100\n",
            "1200/1200 [==============================] - 8s 6ms/step - loss: 4.7199e-04\n",
            "Epoch 72/100\n",
            "1200/1200 [==============================] - 8s 6ms/step - loss: 4.3722e-04\n",
            "Epoch 73/100\n",
            "1200/1200 [==============================] - 8s 6ms/step - loss: 4.2638e-04\n",
            "Epoch 74/100\n",
            "1200/1200 [==============================] - 8s 7ms/step - loss: 4.3151e-04\n",
            "Epoch 75/100\n",
            "1200/1200 [==============================] - 8s 6ms/step - loss: 4.0060e-04\n",
            "Epoch 76/100\n",
            "1200/1200 [==============================] - 8s 7ms/step - loss: 3.9963e-04\n",
            "Epoch 77/100\n",
            "1200/1200 [==============================] - 8s 7ms/step - loss: 4.0548e-04\n",
            "Epoch 78/100\n",
            "1200/1200 [==============================] - 8s 6ms/step - loss: 4.0450e-04\n",
            "Epoch 79/100\n",
            "1200/1200 [==============================] - 8s 6ms/step - loss: 3.9706e-04\n",
            "Epoch 80/100\n",
            "1200/1200 [==============================] - 8s 6ms/step - loss: 4.1989e-04\n",
            "Epoch 81/100\n",
            "1200/1200 [==============================] - 8s 6ms/step - loss: 4.2624e-04\n",
            "Epoch 82/100\n",
            "1200/1200 [==============================] - 8s 6ms/step - loss: 3.8562e-04\n",
            "Epoch 83/100\n",
            "1200/1200 [==============================] - 8s 6ms/step - loss: 3.7271e-04\n",
            "Epoch 84/100\n",
            "1200/1200 [==============================] - 8s 6ms/step - loss: 3.6416e-04\n",
            "Epoch 85/100\n",
            "1200/1200 [==============================] - 8s 6ms/step - loss: 3.7693e-04\n",
            "Epoch 86/100\n",
            "1200/1200 [==============================] - 8s 6ms/step - loss: 4.1892e-04\n",
            "Epoch 87/100\n",
            "1200/1200 [==============================] - 8s 6ms/step - loss: 4.1831e-04\n",
            "Epoch 88/100\n",
            "1200/1200 [==============================] - 8s 6ms/step - loss: 4.7792e-04\n",
            "Epoch 89/100\n",
            "1200/1200 [==============================] - 8s 6ms/step - loss: 5.3002e-04\n",
            "Epoch 90/100\n",
            "1200/1200 [==============================] - 8s 6ms/step - loss: 3.5175e-04\n",
            "Epoch 91/100\n",
            "1200/1200 [==============================] - 8s 6ms/step - loss: 3.6909e-04\n",
            "Epoch 92/100\n",
            "1200/1200 [==============================] - 8s 6ms/step - loss: 3.6846e-04\n",
            "Epoch 93/100\n",
            "1200/1200 [==============================] - 8s 6ms/step - loss: 4.3287e-04\n",
            "Epoch 94/100\n",
            "1200/1200 [==============================] - 8s 6ms/step - loss: 3.4731e-04\n",
            "Epoch 95/100\n",
            "1200/1200 [==============================] - 8s 6ms/step - loss: 3.6703e-04\n",
            "Epoch 96/100\n",
            "1200/1200 [==============================] - 8s 7ms/step - loss: 3.2784e-04\n",
            "Epoch 97/100\n",
            "1200/1200 [==============================] - 8s 6ms/step - loss: 3.5168e-04\n",
            "Epoch 98/100\n",
            "1200/1200 [==============================] - 8s 7ms/step - loss: 3.5219e-04\n",
            "Epoch 99/100\n",
            "1200/1200 [==============================] - 8s 7ms/step - loss: 3.3675e-04\n",
            "Epoch 100/100\n",
            "1200/1200 [==============================] - 8s 6ms/step - loss: 3.3036e-04\n"
          ],
          "name": "stdout"
        },
        {
          "output_type": "execute_result",
          "data": {
            "text/plain": [
              "<keras.callbacks.History at 0x7f0820334a20>"
            ]
          },
          "metadata": {
            "tags": []
          },
          "execution_count": 17
        }
      ]
    },
    {
      "metadata": {
        "id": "HCt0G9AXPDnb",
        "colab_type": "text"
      },
      "cell_type": "markdown",
      "source": [
        "###Predicting and Visualizing Model's Output of Training Set"
      ]
    },
    {
      "metadata": {
        "id": "uYhLTED-Ogrv",
        "colab_type": "code",
        "colab": {
          "base_uri": "https://localhost:8080/",
          "height": 300
        },
        "outputId": "c5e903d6-4616-46a2-ed2f-75802a10ce89"
      },
      "cell_type": "code",
      "source": [
        "ypred = model.predict(xtrain)\n",
        "\n",
        "plt.plot(ypred, color='blue', label='Predicted from the model')\n",
        "plt.plot(ytrain, color='red', label='Ground truth')\n",
        "plt.xlabel('Day number #')\n",
        "plt.ylabel('Apple opening stock price')\n",
        "plt.legend()"
      ],
      "execution_count": 8,
      "outputs": [
        {
          "output_type": "execute_result",
          "data": {
            "text/plain": [
              "<matplotlib.legend.Legend at 0x7f08213ff198>"
            ]
          },
          "metadata": {
            "tags": []
          },
          "execution_count": 8
        },
        {
          "output_type": "display_data",
          "data": {
            "image/png": "[encoded data removed]",
            "text/plain": [
              "<Figure size 432x288 with 1 Axes>"
            ]
          },
          "metadata": {
            "tags": []
          }
        }
      ]
    },
    {
      "metadata": {
        "id": "5gpLPe28POQT",
        "colab_type": "text"
      },
      "cell_type": "markdown",
      "source": [
        "###Loading Test Data and Preprocessing"
      ]
    },
    {
      "metadata": {
        "id": "fwxrRbVEQ157",
        "colab_type": "code",
        "outputId": "ada0ef5e-5c3c-4106-86db-6bdc4dc3fef5",
        "colab": {
          "resources": {
            "http://localhost:8080/nbextensions/google.colab/files.js": {
              "data": "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",
              "ok": true,
              "headers": [
                [
                  "content-type",
                  "application/javascript"
                ]
              ],
              "status": 200,
              "status_text": ""
            }
          },
          "base_uri": "https://localhost:8080/",
          "height": 58
        }
      },
      "cell_type": "code",
      "source": [
        "#Testing data in the period from 01/01/2018 to 31/01/2018\n",
        "files.upload()\n",
        "data_test = pd.read_csv(r'AAPL_test.csv')\n",
        "\n",
        "train_length = len(data_train_open_scaled)\n",
        "print(train_length)\n",
        "data_test_open = np.asarray(data_test['Open'].values).reshape(-1,1) #To be able to use MinMaxScaler\n",
        "scaler2 = MinMaxScaler(feature_range = (0, 1))\n",
        "data_test_open1 = np.concatenate((data_train_open[train_length-60:train_length],data_test_open))\n",
        "data_test_open_scaled = scaler2.fit_transform(data_test_open1)\n",
        "\n",
        "#Preparing testing data features and labels\n",
        "xtest = []  \n",
        "ytest = []  \n",
        "\n",
        "####################TO BE DONE####################\n",
        "# Prepare your xtest and ytest arrays\n",
        "period=30\n",
        "for j in range(period, len(data_test_open_scaled)):  \n",
        "    xtest.append(data_test_open_scaled[j-period:j, 0])\n",
        "    ytest.append(data_test_open_scaled[j, 0])\n",
        "\n",
        "\n",
        "\n",
        "##################################################\n",
        "#Converting xtest and ytest to numpy arrays    \n",
        "xtest, ytest = np.array(xtest), np.array(ytest)    \n",
        "    \n",
        "#Reshaping xtrain to be accepted by LSTM module\n",
        "xtest = xtest.reshape(-1,pred_period,1)"
      ],
      "execution_count": 33,
      "outputs": [
        {
          "output_type": "display_data",
          "data": {
            "text/html": [
              "\n",
              "     <input type=\"file\" id=\"files-1bef4350-72a0-43c3-bbce-32b0c9dc2465\" name=\"files[]\" multiple disabled />\n",
              "     <output id=\"result-1bef4350-72a0-43c3-bbce-32b0c9dc2465\">\n",
              "      Upload widget is only available when the cell has been executed in the\n",
              "      current browser session. Please rerun this cell to enable.\n",
              "      </output>\n",
              "      <script src=\"/nbextensions/google.colab/files.js\"></script> "
            ],
            "text/plain": [
              "<IPython.core.display.HTML object>"
            ]
          },
          "metadata": {
            "tags": []
          }
        },
        {
          "output_type": "stream",
          "text": [
            "1260\n"
          ],
          "name": "stdout"
        }
      ]
    },
    {
      "metadata": {
        "id": "tvs14kVIe1QE",
        "colab_type": "code",
        "colab": {}
      },
      "cell_type": "code",
      "source": [
        "ypred2 = model.predict(xtest)\n",
        "\n",
        "testPredict = scaler.inverse_transform(ypred2)\n"
      ],
      "execution_count": 0,
      "outputs": []
    },
    {
      "metadata": {
        "id": "CcFu6l1hPTsI",
        "colab_type": "text"
      },
      "cell_type": "markdown",
      "source": [
        "###Predicting Model Performance over Test Data"
      ]
    },
    {
      "metadata": {
        "id": "nfXfsf5hZahf",
        "colab_type": "code",
        "outputId": "2e1f8519-366b-4d84-bd76-bfcdedbc37c0",
        "colab": {
          "base_uri": "https://localhost:8080/",
          "height": 300
        }
      },
      "cell_type": "code",
      "source": [
        "####################TO BE DONE####################\n",
        "#Predict the the stock value for the test data\n",
        "#Take any other actions to make sure that your data is relevant\n",
        "\n",
        "\n",
        "##################################################\n",
        "plt.plot(testPredict, color='blue', label='Predicted from the model')\n",
        "plt.plot(data_test_open, color='red', label='Ground truth')\n",
        "plt.xlabel('Day number #')\n",
        "plt.ylabel('Apple opening stock price')\n",
        "plt.legend()"
      ],
      "execution_count": 36,
      "outputs": [
        {
          "output_type": "execute_result",
          "data": {
            "text/plain": [
              "<matplotlib.legend.Legend at 0x7f080e07aa58>"
            ]
          },
          "metadata": {
            "tags": []
          },
          "execution_count": 36
        },
        {
          "output_type": "display_data",
          "data": {
            "image/png": "[encoded data removed]",
            "text/plain": [
              "<Figure size 432x288 with 1 Axes>"
            ]
          },
          "metadata": {
            "tags": []
          }
        }
      ]
    }
  ]
}