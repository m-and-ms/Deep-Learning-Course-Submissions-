{
  "nbformat": 4,
  "nbformat_minor": 0,
  "metadata": {
    "colab": {
      "name": "lab5deep.ipynb",
      "version": "0.3.2",
      "provenance": []
    },
    "kernelspec": {
      "name": "python3",
      "display_name": "Python 3"
    }
  },
  "cells": [
    {
      "metadata": {
        "id": "FQP3KxtvjXgk",
        "colab_type": "code",
        "colab": {
          "base_uri": "https://localhost:8080/",
          "height": 34
        },
        "outputId": "3a6b10f2-f1d8-4f68-ced1-36fc856623ca"
      },
      "cell_type": "code",
      "source": [
        "import sklearn \n",
        "from sklearn import *\n",
        "import numpy as np\n",
        "from numpy import array\n",
        "from numpy import argmax\n",
        "from keras.utils import to_categorical\n",
        "from keras.layers import Dropout\n",
        "from keras.layers import *\n",
        "from sklearn.model_selection import KFold\n",
        "import matplotlib.pyplot as plt\n",
        "from keras.callbacks import *\n",
        "import tensorflow as tf\n",
        "#tf.enable_eager_execution()\n",
        "#tf.set_random_seed(0)\n",
        "#np.random.seed(0)\n",
        "from tensorflow.contrib.eager.python import tfe\n",
        "\n",
        "\n"
      ],
      "execution_count": 2,
      "outputs": [
        {
          "output_type": "stream",
          "text": [
            "Using TensorFlow backend.\n"
          ],
          "name": "stderr"
        }
      ]
    },
    {
      "metadata": {
        "id": "zC9TXwUsp1LW",
        "colab_type": "code",
        "colab": {}
      },
      "cell_type": "code",
      "source": [
        "from keras import models\n",
        "from keras.optimizers import SGD\n",
        "\n",
        "from keras import layers\n",
        "from sklearn.model_selection import cross_val_score\n",
        "from sklearn.preprocessing import LabelEncoder\n",
        "from sklearn.preprocessing import StandardScaler\n",
        "from sklearn.model_selection import train_test_split"
      ],
      "execution_count": 0,
      "outputs": []
    },
    {
      "metadata": {
        "id": "OA7prP5Pjmb_",
        "colab_type": "code",
        "outputId": "2310c758-9bac-4c6a-e15c-13b43094685b",
        "colab": {
          "base_uri": "https://localhost:8080/",
          "height": 323
        }
      },
      "cell_type": "code",
      "source": [
        "dataset=sklearn.datasets.load_breast_cancer(return_X_y=False)\n",
        "scaler = StandardScaler()\n",
        "\n",
        "#print(dataset.data)\n",
        "print(dataset.target)\n",
        "target=dataset['target']\n",
        "data=dataset['data']\n",
        "data=scaler.fit_transform(data)\n",
        "\n",
        "nt=target.shape[0]\n",
        "nd=data.shape[1]\n",
        "print('nt',nt)\n",
        "print('nd',nd)\n"
      ],
      "execution_count": 4,
      "outputs": [
        {
          "output_type": "stream",
          "text": [
            "[0 0 0 0 0 0 0 0 0 0 0 0 0 0 0 0 0 0 0 1 1 1 0 0 0 0 0 0 0 0 0 0 0 0 0 0 0\n",
            " 1 0 0 0 0 0 0 0 0 1 0 1 1 1 1 1 0 0 1 0 0 1 1 1 1 0 1 0 0 1 1 1 1 0 1 0 0\n",
            " 1 0 1 0 0 1 1 1 0 0 1 0 0 0 1 1 1 0 1 1 0 0 1 1 1 0 0 1 1 1 1 0 1 1 0 1 1\n",
            " 1 1 1 1 1 1 0 0 0 1 0 0 1 1 1 0 0 1 0 1 0 0 1 0 0 1 1 0 1 1 0 1 1 1 1 0 1\n",
            " 1 1 1 1 1 1 1 1 0 1 1 1 1 0 0 1 0 1 1 0 0 1 1 0 0 1 1 1 1 0 1 1 0 0 0 1 0\n",
            " 1 0 1 1 1 0 1 1 0 0 1 0 0 0 0 1 0 0 0 1 0 1 0 1 1 0 1 0 0 0 0 1 1 0 0 1 1\n",
            " 1 0 1 1 1 1 1 0 0 1 1 0 1 1 0 0 1 0 1 1 1 1 0 1 1 1 1 1 0 1 0 0 0 0 0 0 0\n",
            " 0 0 0 0 0 0 0 1 1 1 1 1 1 0 1 0 1 1 0 1 1 0 1 0 0 1 1 1 1 1 1 1 1 1 1 1 1\n",
            " 1 0 1 1 0 1 0 1 1 1 1 1 1 1 1 1 1 1 1 1 1 0 1 1 1 0 1 0 1 1 1 1 0 0 0 1 1\n",
            " 1 1 0 1 0 1 0 1 1 1 0 1 1 1 1 1 1 1 0 0 0 1 1 1 1 1 1 1 1 1 1 1 0 0 1 0 0\n",
            " 0 1 0 0 1 1 1 1 1 0 1 1 1 1 1 0 1 1 1 0 1 1 0 0 1 1 1 1 1 1 0 1 1 1 1 1 1\n",
            " 1 0 1 1 1 1 1 0 1 1 0 1 1 1 1 1 1 1 1 1 1 1 1 0 1 0 0 1 0 1 1 1 1 1 0 1 1\n",
            " 0 1 0 1 1 0 1 0 1 1 1 1 1 1 1 1 0 0 1 1 1 1 1 1 0 1 1 1 1 1 1 1 1 1 1 0 1\n",
            " 1 1 1 1 1 1 0 1 0 1 1 0 1 1 1 1 1 0 0 1 0 1 0 1 1 1 1 1 0 1 1 0 1 0 1 0 0\n",
            " 1 1 1 0 1 1 1 1 1 1 1 1 1 1 1 0 1 0 0 1 1 1 1 1 1 1 1 1 1 1 1 1 1 1 1 1 1\n",
            " 1 1 1 1 1 1 1 0 0 0 0 0 0 1]\n",
            "nt 569\n",
            "nd 30\n"
          ],
          "name": "stdout"
        }
      ]
    },
    {
      "metadata": {
        "id": "oKVLuPQhrpbd",
        "colab_type": "code",
        "outputId": "bb844f4f-0451-4f2f-a800-4af0cea9ff48",
        "colab": {
          "base_uri": "https://localhost:8080/",
          "height": 136
        }
      },
      "cell_type": "code",
      "source": [
        "encoded = to_categorical(target)\n",
        "print(encoded)\n",
        "X_train, X_test, y_train, y_test = train_test_split(data, encoded, test_size=0.33)\n",
        "\n",
        "# kfold cross validation \n",
        " "
      ],
      "execution_count": 5,
      "outputs": [
        {
          "output_type": "stream",
          "text": [
            "[[1. 0.]\n",
            " [1. 0.]\n",
            " [1. 0.]\n",
            " ...\n",
            " [1. 0.]\n",
            " [1. 0.]\n",
            " [0. 1.]]\n"
          ],
          "name": "stdout"
        }
      ]
    },
    {
      "metadata": {
        "id": "IHTgHB42FYQH",
        "colab_type": "code",
        "colab": {}
      },
      "cell_type": "code",
      "source": [
        ""
      ],
      "execution_count": 0,
      "outputs": []
    },
    {
      "metadata": {
        "id": "vCcGDFzhp4Bx",
        "colab_type": "code",
        "colab": {
          "base_uri": "https://localhost:8080/",
          "height": 139
        },
        "outputId": "7ede45e4-76af-4aea-fecb-ca6da195a59a"
      },
      "cell_type": "code",
      "source": [
        "network = models.Sequential()\n",
        "network.add(layers.Dense(units=30, activation='relu', input_shape=(nd,)))\n",
        "network.add(layers.Dense(units=30, activation='relu'))\n",
        "network.add(Dropout(0.3))\n",
        "\n",
        "network.add(layers.Dense(units=30, activation='relu'))\n",
        "network.add(Dropout(0.3))\n",
        "\n",
        "network.add(layers.Dense(units=2, activation='sigmoid'))\n",
        "\n"
      ],
      "execution_count": 6,
      "outputs": [
        {
          "output_type": "stream",
          "text": [
            "WARNING:tensorflow:From /usr/local/lib/python3.6/dist-packages/tensorflow/python/framework/op_def_library.py:263: colocate_with (from tensorflow.python.framework.ops) is deprecated and will be removed in a future version.\n",
            "Instructions for updating:\n",
            "Colocations handled automatically by placer.\n",
            "WARNING:tensorflow:From /usr/local/lib/python3.6/dist-packages/keras/backend/tensorflow_backend.py:3445: calling dropout (from tensorflow.python.ops.nn_ops) with keep_prob is deprecated and will be removed in a future version.\n",
            "Instructions for updating:\n",
            "Please use `rate` instead of `keep_prob`. Rate should be set to `rate = 1 - keep_prob`.\n"
          ],
          "name": "stdout"
        }
      ]
    },
    {
      "metadata": {
        "id": "iM0N9-9ztTet",
        "colab_type": "code",
        "colab": {}
      },
      "cell_type": "code",
      "source": [
        "\tsgd = SGD(lr=0.01, momentum=0.8, decay=0.0, nesterov=False)\n",
        "\tnetwork.compile(loss='binary_crossentropy', optimizer=sgd, metrics=['accuracy'])\n"
      ],
      "execution_count": 0,
      "outputs": []
    },
    {
      "metadata": {
        "id": "I84lQQdBykk2",
        "colab_type": "code",
        "outputId": "9907da6d-5604-49a7-920a-fc50b34dc897",
        "colab": {
          "base_uri": "https://localhost:8080/",
          "height": 3881
        }
      },
      "cell_type": "code",
      "source": [
        "history = network.fit(X_train,\n",
        "                      y_train, \n",
        "                      epochs=100, \n",
        "                      verbose=1, \n",
        "                      batch_size=50,  validation_split=0.3, shuffle=True\n",
        "                      )\n",
        "EarlyStopping(monitor='val_loss', min_delta=0, patience=10, verbose=1, mode='auto', baseline=None, restore_best_weights=False)\n",
        "\n",
        "#validation_data=(test_features, test_target)\n",
        "#plt.plot(history.history['acc'])\n",
        "#plt.plot(history.history['val_acc'])\n",
        "#plt.title('model accuracy')\n",
        "#plt.ylabel('accuracy')\n",
        "#plt.xlabel('epoch')\n",
        "N=range(100)\n",
        "plt.figure()\n",
        "plt.plot(N, history.history['loss'], label = \"train_loss\")\n",
        "plt.plot(N, history.history['acc'], label = \"train_acc\")\n",
        "plt.plot(N, history.history['val_loss'], label = \"val_loss\")\n",
        "plt.plot(N, history.history['val_acc'], label = \"val_acc\")\n",
        "plt.title(\"Training Loss and Accuracy [Epoch {}]\")\n",
        "plt.xlabel(\"Epoch #\")\n",
        "plt.ylabel(\"Loss/Accuracy\")\n",
        "plt.legend()"
      ],
      "execution_count": 8,
      "outputs": [
        {
          "output_type": "stream",
          "text": [
            "WARNING:tensorflow:From /usr/local/lib/python3.6/dist-packages/tensorflow/python/ops/math_ops.py:3066: to_int32 (from tensorflow.python.ops.math_ops) is deprecated and will be removed in a future version.\n",
            "Instructions for updating:\n",
            "Use tf.cast instead.\n",
            "Train on 266 samples, validate on 115 samples\n",
            "Epoch 1/100\n",
            "266/266 [==============================] - 1s 3ms/step - loss: 0.6546 - acc: 0.6259 - val_loss: 0.6247 - val_acc: 0.7043\n",
            "Epoch 2/100\n",
            "266/266 [==============================] - 0s 65us/step - loss: 0.6306 - acc: 0.6128 - val_loss: 0.5945 - val_acc: 0.8087\n",
            "Epoch 3/100\n",
            "266/266 [==============================] - 0s 52us/step - loss: 0.5806 - acc: 0.7218 - val_loss: 0.5625 - val_acc: 0.8391\n",
            "Epoch 4/100\n",
            "266/266 [==============================] - 0s 51us/step - loss: 0.5646 - acc: 0.7632 - val_loss: 0.5299 - val_acc: 0.8565\n",
            "Epoch 5/100\n",
            "266/266 [==============================] - 0s 51us/step - loss: 0.5079 - acc: 0.8064 - val_loss: 0.4951 - val_acc: 0.8870\n",
            "Epoch 6/100\n",
            "266/266 [==============================] - 0s 50us/step - loss: 0.4788 - acc: 0.8383 - val_loss: 0.4584 - val_acc: 0.8913\n",
            "Epoch 7/100\n",
            "266/266 [==============================] - 0s 50us/step - loss: 0.4404 - acc: 0.8553 - val_loss: 0.4221 - val_acc: 0.8957\n",
            "Epoch 8/100\n",
            "266/266 [==============================] - 0s 50us/step - loss: 0.4231 - acc: 0.8703 - val_loss: 0.3834 - val_acc: 0.8957\n",
            "Epoch 9/100\n",
            "266/266 [==============================] - 0s 51us/step - loss: 0.3767 - acc: 0.8872 - val_loss: 0.3455 - val_acc: 0.9130\n",
            "Epoch 10/100\n",
            "266/266 [==============================] - 0s 50us/step - loss: 0.3319 - acc: 0.8929 - val_loss: 0.3101 - val_acc: 0.9130\n",
            "Epoch 11/100\n",
            "266/266 [==============================] - 0s 51us/step - loss: 0.3268 - acc: 0.9079 - val_loss: 0.2789 - val_acc: 0.9174\n",
            "Epoch 12/100\n",
            "266/266 [==============================] - 0s 51us/step - loss: 0.2798 - acc: 0.9079 - val_loss: 0.2487 - val_acc: 0.9261\n",
            "Epoch 13/100\n",
            "266/266 [==============================] - 0s 49us/step - loss: 0.2741 - acc: 0.9154 - val_loss: 0.2249 - val_acc: 0.9304\n",
            "Epoch 14/100\n",
            "266/266 [==============================] - 0s 53us/step - loss: 0.2378 - acc: 0.9342 - val_loss: 0.2049 - val_acc: 0.9304\n",
            "Epoch 15/100\n",
            "266/266 [==============================] - 0s 64us/step - loss: 0.2383 - acc: 0.9361 - val_loss: 0.1893 - val_acc: 0.9304\n",
            "Epoch 16/100\n",
            "266/266 [==============================] - 0s 63us/step - loss: 0.2123 - acc: 0.9323 - val_loss: 0.1762 - val_acc: 0.9478\n",
            "Epoch 17/100\n",
            "266/266 [==============================] - 0s 55us/step - loss: 0.1755 - acc: 0.9605 - val_loss: 0.1645 - val_acc: 0.9478\n",
            "Epoch 18/100\n",
            "266/266 [==============================] - 0s 53us/step - loss: 0.1802 - acc: 0.9436 - val_loss: 0.1544 - val_acc: 0.9522\n",
            "Epoch 19/100\n",
            "266/266 [==============================] - 0s 51us/step - loss: 0.1736 - acc: 0.9586 - val_loss: 0.1455 - val_acc: 0.9522\n",
            "Epoch 20/100\n",
            "266/266 [==============================] - 0s 64us/step - loss: 0.1560 - acc: 0.9586 - val_loss: 0.1365 - val_acc: 0.9565\n",
            "Epoch 21/100\n",
            "266/266 [==============================] - 0s 80us/step - loss: 0.1561 - acc: 0.9624 - val_loss: 0.1291 - val_acc: 0.9609\n",
            "Epoch 22/100\n",
            "266/266 [==============================] - 0s 60us/step - loss: 0.1480 - acc: 0.9605 - val_loss: 0.1233 - val_acc: 0.9739\n",
            "Epoch 23/100\n",
            "266/266 [==============================] - 0s 54us/step - loss: 0.1444 - acc: 0.9530 - val_loss: 0.1180 - val_acc: 0.9783\n",
            "Epoch 24/100\n",
            "266/266 [==============================] - 0s 50us/step - loss: 0.1259 - acc: 0.9680 - val_loss: 0.1150 - val_acc: 0.9826\n",
            "Epoch 25/100\n",
            "266/266 [==============================] - 0s 47us/step - loss: 0.1409 - acc: 0.9643 - val_loss: 0.1106 - val_acc: 0.9826\n",
            "Epoch 26/100\n",
            "266/266 [==============================] - 0s 48us/step - loss: 0.1204 - acc: 0.9699 - val_loss: 0.1054 - val_acc: 0.9783\n",
            "Epoch 27/100\n",
            "266/266 [==============================] - 0s 61us/step - loss: 0.1338 - acc: 0.9549 - val_loss: 0.1020 - val_acc: 0.9783\n",
            "Epoch 28/100\n",
            "266/266 [==============================] - 0s 62us/step - loss: 0.1141 - acc: 0.9737 - val_loss: 0.0986 - val_acc: 0.9783\n",
            "Epoch 29/100\n",
            "266/266 [==============================] - 0s 48us/step - loss: 0.1072 - acc: 0.9699 - val_loss: 0.0952 - val_acc: 0.9739\n",
            "Epoch 30/100\n",
            "266/266 [==============================] - 0s 53us/step - loss: 0.0921 - acc: 0.9718 - val_loss: 0.0922 - val_acc: 0.9739\n",
            "Epoch 31/100\n",
            "266/266 [==============================] - 0s 61us/step - loss: 0.1115 - acc: 0.9718 - val_loss: 0.0899 - val_acc: 0.9826\n",
            "Epoch 32/100\n",
            "266/266 [==============================] - 0s 52us/step - loss: 0.0975 - acc: 0.9756 - val_loss: 0.0869 - val_acc: 0.9826\n",
            "Epoch 33/100\n",
            "266/266 [==============================] - 0s 64us/step - loss: 0.1239 - acc: 0.9586 - val_loss: 0.0851 - val_acc: 0.9826\n",
            "Epoch 34/100\n",
            "266/266 [==============================] - 0s 68us/step - loss: 0.1071 - acc: 0.9718 - val_loss: 0.0830 - val_acc: 0.9826\n",
            "Epoch 35/100\n",
            "266/266 [==============================] - 0s 71us/step - loss: 0.0971 - acc: 0.9793 - val_loss: 0.0817 - val_acc: 0.9870\n",
            "Epoch 36/100\n",
            "266/266 [==============================] - 0s 49us/step - loss: 0.1101 - acc: 0.9737 - val_loss: 0.0801 - val_acc: 0.9870\n",
            "Epoch 37/100\n",
            "266/266 [==============================] - 0s 54us/step - loss: 0.0973 - acc: 0.9756 - val_loss: 0.0785 - val_acc: 0.9913\n",
            "Epoch 38/100\n",
            "266/266 [==============================] - 0s 49us/step - loss: 0.0968 - acc: 0.9737 - val_loss: 0.0768 - val_acc: 0.9913\n",
            "Epoch 39/100\n",
            "266/266 [==============================] - 0s 48us/step - loss: 0.1033 - acc: 0.9774 - val_loss: 0.0761 - val_acc: 0.9870\n",
            "Epoch 40/100\n",
            "266/266 [==============================] - 0s 62us/step - loss: 0.0937 - acc: 0.9737 - val_loss: 0.0753 - val_acc: 0.9913\n",
            "Epoch 41/100\n",
            "266/266 [==============================] - 0s 46us/step - loss: 0.0868 - acc: 0.9718 - val_loss: 0.0742 - val_acc: 0.9913\n",
            "Epoch 42/100\n",
            "266/266 [==============================] - 0s 46us/step - loss: 0.0969 - acc: 0.9699 - val_loss: 0.0732 - val_acc: 0.9913\n",
            "Epoch 43/100\n",
            "266/266 [==============================] - 0s 50us/step - loss: 0.0910 - acc: 0.9812 - val_loss: 0.0722 - val_acc: 0.9870\n",
            "Epoch 44/100\n",
            "266/266 [==============================] - 0s 47us/step - loss: 0.0772 - acc: 0.9793 - val_loss: 0.0707 - val_acc: 0.9870\n",
            "Epoch 45/100\n",
            "266/266 [==============================] - 0s 47us/step - loss: 0.0875 - acc: 0.9793 - val_loss: 0.0701 - val_acc: 0.9870\n",
            "Epoch 46/100\n",
            "266/266 [==============================] - 0s 63us/step - loss: 0.0797 - acc: 0.9850 - val_loss: 0.0705 - val_acc: 0.9826\n",
            "Epoch 47/100\n",
            "266/266 [==============================] - 0s 93us/step - loss: 0.1019 - acc: 0.9737 - val_loss: 0.0704 - val_acc: 0.9826\n",
            "Epoch 48/100\n",
            "266/266 [==============================] - 0s 50us/step - loss: 0.0797 - acc: 0.9850 - val_loss: 0.0693 - val_acc: 0.9826\n",
            "Epoch 49/100\n",
            "266/266 [==============================] - 0s 55us/step - loss: 0.0768 - acc: 0.9793 - val_loss: 0.0681 - val_acc: 0.9826\n",
            "Epoch 50/100\n",
            "266/266 [==============================] - 0s 57us/step - loss: 0.0768 - acc: 0.9737 - val_loss: 0.0687 - val_acc: 0.9826\n",
            "Epoch 51/100\n",
            "266/266 [==============================] - 0s 64us/step - loss: 0.0836 - acc: 0.9887 - val_loss: 0.0687 - val_acc: 0.9826\n",
            "Epoch 52/100\n",
            "266/266 [==============================] - 0s 56us/step - loss: 0.0755 - acc: 0.9887 - val_loss: 0.0682 - val_acc: 0.9826\n",
            "Epoch 53/100\n",
            "266/266 [==============================] - 0s 54us/step - loss: 0.0686 - acc: 0.9887 - val_loss: 0.0670 - val_acc: 0.9826\n",
            "Epoch 54/100\n",
            "266/266 [==============================] - 0s 58us/step - loss: 0.0793 - acc: 0.9831 - val_loss: 0.0653 - val_acc: 0.9826\n",
            "Epoch 55/100\n",
            "266/266 [==============================] - 0s 55us/step - loss: 0.0733 - acc: 0.9850 - val_loss: 0.0643 - val_acc: 0.9826\n",
            "Epoch 56/100\n",
            "266/266 [==============================] - 0s 57us/step - loss: 0.0822 - acc: 0.9868 - val_loss: 0.0642 - val_acc: 0.9826\n",
            "Epoch 57/100\n",
            "266/266 [==============================] - 0s 57us/step - loss: 0.0642 - acc: 0.9868 - val_loss: 0.0632 - val_acc: 0.9826\n",
            "Epoch 58/100\n",
            "266/266 [==============================] - 0s 60us/step - loss: 0.0757 - acc: 0.9850 - val_loss: 0.0611 - val_acc: 0.9826\n",
            "Epoch 59/100\n",
            "266/266 [==============================] - 0s 54us/step - loss: 0.0662 - acc: 0.9906 - val_loss: 0.0606 - val_acc: 0.9826\n",
            "Epoch 60/100\n",
            "266/266 [==============================] - 0s 60us/step - loss: 0.0728 - acc: 0.9812 - val_loss: 0.0605 - val_acc: 0.9870\n",
            "Epoch 61/100\n",
            "266/266 [==============================] - 0s 65us/step - loss: 0.0702 - acc: 0.9793 - val_loss: 0.0603 - val_acc: 0.9826\n",
            "Epoch 62/100\n",
            "266/266 [==============================] - 0s 58us/step - loss: 0.0727 - acc: 0.9850 - val_loss: 0.0593 - val_acc: 0.9826\n",
            "Epoch 63/100\n",
            "266/266 [==============================] - 0s 52us/step - loss: 0.0807 - acc: 0.9850 - val_loss: 0.0589 - val_acc: 0.9826\n",
            "Epoch 64/100\n",
            "266/266 [==============================] - 0s 63us/step - loss: 0.0713 - acc: 0.9868 - val_loss: 0.0583 - val_acc: 0.9826\n",
            "Epoch 65/100\n",
            "266/266 [==============================] - 0s 52us/step - loss: 0.0635 - acc: 0.9831 - val_loss: 0.0581 - val_acc: 0.9826\n",
            "Epoch 66/100\n",
            "266/266 [==============================] - 0s 51us/step - loss: 0.0708 - acc: 0.9737 - val_loss: 0.0589 - val_acc: 0.9826\n",
            "Epoch 67/100\n",
            "266/266 [==============================] - 0s 51us/step - loss: 0.0809 - acc: 0.9812 - val_loss: 0.0589 - val_acc: 0.9826\n",
            "Epoch 68/100\n",
            "266/266 [==============================] - 0s 48us/step - loss: 0.0588 - acc: 0.9887 - val_loss: 0.0575 - val_acc: 0.9826\n",
            "Epoch 69/100\n",
            "266/266 [==============================] - 0s 48us/step - loss: 0.0605 - acc: 0.9850 - val_loss: 0.0569 - val_acc: 0.9826\n",
            "Epoch 70/100\n",
            "266/266 [==============================] - 0s 52us/step - loss: 0.0677 - acc: 0.9812 - val_loss: 0.0570 - val_acc: 0.9826\n",
            "Epoch 71/100\n",
            "266/266 [==============================] - 0s 47us/step - loss: 0.0785 - acc: 0.9850 - val_loss: 0.0568 - val_acc: 0.9826\n",
            "Epoch 72/100\n",
            "266/266 [==============================] - 0s 52us/step - loss: 0.0636 - acc: 0.9850 - val_loss: 0.0563 - val_acc: 0.9826\n",
            "Epoch 73/100\n",
            "266/266 [==============================] - 0s 62us/step - loss: 0.0588 - acc: 0.9887 - val_loss: 0.0557 - val_acc: 0.9826\n",
            "Epoch 74/100\n",
            "266/266 [==============================] - 0s 49us/step - loss: 0.0650 - acc: 0.9850 - val_loss: 0.0555 - val_acc: 0.9826\n",
            "Epoch 75/100\n",
            "266/266 [==============================] - 0s 55us/step - loss: 0.0631 - acc: 0.9850 - val_loss: 0.0562 - val_acc: 0.9826\n",
            "Epoch 76/100\n",
            "266/266 [==============================] - 0s 55us/step - loss: 0.0647 - acc: 0.9793 - val_loss: 0.0564 - val_acc: 0.9826\n",
            "Epoch 77/100\n",
            "266/266 [==============================] - 0s 53us/step - loss: 0.0438 - acc: 0.9887 - val_loss: 0.0541 - val_acc: 0.9826\n",
            "Epoch 78/100\n",
            "266/266 [==============================] - 0s 53us/step - loss: 0.0653 - acc: 0.9831 - val_loss: 0.0539 - val_acc: 0.9826\n",
            "Epoch 79/100\n",
            "266/266 [==============================] - 0s 55us/step - loss: 0.0666 - acc: 0.9887 - val_loss: 0.0546 - val_acc: 0.9826\n",
            "Epoch 80/100\n",
            "266/266 [==============================] - 0s 55us/step - loss: 0.0601 - acc: 0.9887 - val_loss: 0.0550 - val_acc: 0.9826\n",
            "Epoch 81/100\n",
            "266/266 [==============================] - 0s 74us/step - loss: 0.0665 - acc: 0.9850 - val_loss: 0.0554 - val_acc: 0.9826\n",
            "Epoch 82/100\n",
            "266/266 [==============================] - 0s 62us/step - loss: 0.0670 - acc: 0.9831 - val_loss: 0.0565 - val_acc: 0.9826\n",
            "Epoch 83/100\n",
            "266/266 [==============================] - 0s 49us/step - loss: 0.0633 - acc: 0.9887 - val_loss: 0.0568 - val_acc: 0.9826\n",
            "Epoch 84/100\n",
            "266/266 [==============================] - 0s 79us/step - loss: 0.0603 - acc: 0.9906 - val_loss: 0.0565 - val_acc: 0.9826\n",
            "Epoch 85/100\n",
            "266/266 [==============================] - 0s 57us/step - loss: 0.0505 - acc: 0.9868 - val_loss: 0.0570 - val_acc: 0.9826\n",
            "Epoch 86/100\n",
            "266/266 [==============================] - 0s 51us/step - loss: 0.0658 - acc: 0.9831 - val_loss: 0.0570 - val_acc: 0.9826\n",
            "Epoch 87/100\n",
            "266/266 [==============================] - 0s 54us/step - loss: 0.0648 - acc: 0.9831 - val_loss: 0.0566 - val_acc: 0.9826\n",
            "Epoch 88/100\n",
            "266/266 [==============================] - 0s 55us/step - loss: 0.0614 - acc: 0.9906 - val_loss: 0.0566 - val_acc: 0.9826\n",
            "Epoch 89/100\n",
            "266/266 [==============================] - 0s 53us/step - loss: 0.0540 - acc: 0.9887 - val_loss: 0.0567 - val_acc: 0.9826\n",
            "Epoch 90/100\n",
            "266/266 [==============================] - 0s 51us/step - loss: 0.0436 - acc: 0.9887 - val_loss: 0.0566 - val_acc: 0.9826\n",
            "Epoch 91/100\n",
            "266/266 [==============================] - 0s 50us/step - loss: 0.0545 - acc: 0.9831 - val_loss: 0.0558 - val_acc: 0.9826\n",
            "Epoch 92/100\n",
            "266/266 [==============================] - 0s 49us/step - loss: 0.0553 - acc: 0.9868 - val_loss: 0.0547 - val_acc: 0.9826\n",
            "Epoch 93/100\n",
            "266/266 [==============================] - 0s 46us/step - loss: 0.0471 - acc: 0.9887 - val_loss: 0.0550 - val_acc: 0.9826\n",
            "Epoch 94/100\n",
            "266/266 [==============================] - 0s 78us/step - loss: 0.0574 - acc: 0.9887 - val_loss: 0.0569 - val_acc: 0.9826\n",
            "Epoch 95/100\n",
            "266/266 [==============================] - 0s 49us/step - loss: 0.0390 - acc: 0.9906 - val_loss: 0.0574 - val_acc: 0.9826\n",
            "Epoch 96/100\n",
            "266/266 [==============================] - 0s 48us/step - loss: 0.0496 - acc: 0.9868 - val_loss: 0.0573 - val_acc: 0.9826\n",
            "Epoch 97/100\n",
            "266/266 [==============================] - 0s 46us/step - loss: 0.0432 - acc: 0.9906 - val_loss: 0.0570 - val_acc: 0.9826\n",
            "Epoch 98/100\n",
            "266/266 [==============================] - 0s 63us/step - loss: 0.0547 - acc: 0.9925 - val_loss: 0.0562 - val_acc: 0.9826\n",
            "Epoch 99/100\n",
            "266/266 [==============================] - 0s 47us/step - loss: 0.0763 - acc: 0.9868 - val_loss: 0.0551 - val_acc: 0.9826\n",
            "Epoch 100/100\n",
            "266/266 [==============================] - 0s 48us/step - loss: 0.0468 - acc: 0.9906 - val_loss: 0.0549 - val_acc: 0.9826\n"
          ],
          "name": "stdout"
        },
        {
          "output_type": "execute_result",
          "data": {
            "text/plain": [
              "<matplotlib.legend.Legend at 0x7fa6f4c61e80>"
            ]
          },
          "metadata": {
            "tags": []
          },
          "execution_count": 8
        },
        {
          "output_type": "display_data",
          "data": {
            "image/png": "[encoded data removed]",
            "text/plain": [
              "<Figure size 576x396 with 1 Axes>"
            ]
          },
          "metadata": {
            "tags": []
          }
        }
      ]
    }
  ]
}