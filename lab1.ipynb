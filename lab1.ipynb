{
 "cells": [
  {
   "cell_type": "markdown",
   "metadata": {
    "colab_type": "text",
    "id": "x0ZXqrSHPQxN"
   },
   "source": [
    "<h4 align=\"right\">5th of February 2019</h4>\n",
    "<h1 align=\"center\">Neural Networks and Deep Learning (CIE 555)</h1>\n",
    "<h2 align=\"center\">Lab 1: Course Introduction</h2> <br>"
   ]
  },
  {
   "cell_type": "markdown",
   "metadata": {
    "colab_type": "text",
    "id": "JS2CLuIwPbZV"
   },
   "source": [
    "\n",
    "###Part 1: Introduction to Python"
   ]
  },
  {
   "cell_type": "markdown",
   "metadata": {
    "colab_type": "text",
    "id": "K2jel9v2PfBc"
   },
   "source": [
    "####(1) Lists"
   ]
  },
  {
   "cell_type": "markdown",
   "metadata": {
    "colab_type": "text",
    "id": "PlTTG3vgdPdw"
   },
   "source": [
    "A list type is a compound data type that holds multiple values"
   ]
  },
  {
   "cell_type": "code",
   "execution_count": 73,
   "metadata": {
    "colab": {},
    "colab_type": "code",
    "id": "8UtgbeYzMETn"
   },
   "outputs": [],
   "source": [
    "x = [1, 3, 5 , 7, 8]"
   ]
  },
  {
   "cell_type": "code",
   "execution_count": 74,
   "metadata": {
    "colab": {
     "base_uri": "https://localhost:8080/",
     "height": 35
    },
    "colab_type": "code",
    "id": "IKdSpVVgMETx",
    "outputId": "cee5332f-e104-40cf-ebc9-1e91d8f72eaa"
   },
   "outputs": [
    {
     "name": "stdout",
     "output_type": "stream",
     "text": [
      "1\n"
     ]
    }
   ],
   "source": [
    "#lists are indexable\n",
    "print (x[0])"
   ]
  },
  {
   "cell_type": "code",
   "execution_count": 75,
   "metadata": {
    "colab": {
     "base_uri": "https://localhost:8080/",
     "height": 52
    },
    "colab_type": "code",
    "id": "D9tbccnWMET-",
    "outputId": "5b40802a-40ba-4236-ef1a-83f7b65263b7"
   },
   "outputs": [
    {
     "name": "stdout",
     "output_type": "stream",
     "text": [
      "[1, 3, 5, 7, 8]\n",
      "[1, 3, 6, 7, 8]\n"
     ]
    }
   ],
   "source": [
    "#Unlike Strings lists are mutable (Can be Changed)\n",
    "print (x)\n",
    "x[2] = 6\n",
    "print (x)"
   ]
  },
  {
   "cell_type": "code",
   "execution_count": 76,
   "metadata": {
    "colab": {
     "base_uri": "https://localhost:8080/",
     "height": 35
    },
    "colab_type": "code",
    "id": "cJvcotyhMEUL",
    "outputId": "ab3adc02-c433-4a7b-ef08-6bff75f9304d"
   },
   "outputs": [
    {
     "name": "stdout",
     "output_type": "stream",
     "text": [
      "[1, 3, 6, 7, 8, 10]\n"
     ]
    }
   ],
   "source": [
    "#add new items at the end\n",
    "x.append(10)\n",
    "print (x)"
   ]
  },
  {
   "cell_type": "code",
   "execution_count": 77,
   "metadata": {
    "colab": {
     "base_uri": "https://localhost:8080/",
     "height": 35
    },
    "colab_type": "code",
    "id": "iFsBleoKMEUf",
    "outputId": "4f27338e-7a89-464e-8dc7-f6d34d1ed5ce"
   },
   "outputs": [
    {
     "name": "stdout",
     "output_type": "stream",
     "text": [
      "[1, 3, 3, 6, 7, 8, 10]\n"
     ]
    }
   ],
   "source": [
    "#inserting items in the middle\n",
    "x.insert(1,3)\n",
    "print (x)"
   ]
  },
  {
   "cell_type": "code",
   "execution_count": 78,
   "metadata": {
    "colab": {
     "base_uri": "https://localhost:8080/",
     "height": 35
    },
    "colab_type": "code",
    "id": "2xxoKzNsMEU1",
    "outputId": "ed5db288-6c70-425a-eea6-2d4902ce0846"
   },
   "outputs": [
    {
     "name": "stdout",
     "output_type": "stream",
     "text": [
      "[7, 8, 3, 6, 7, 8, 10]\n"
     ]
    }
   ],
   "source": [
    "#slicing - you may remove some values \n",
    "x[0:2] = [7,8]\n",
    "print(x)"
   ]
  },
  {
   "cell_type": "code",
   "execution_count": 79,
   "metadata": {
    "colab": {
     "base_uri": "https://localhost:8080/",
     "height": 35
    },
    "colab_type": "code",
    "id": "LfVXNDvAg6Eo",
    "outputId": "77ee6599-6427-45bd-a6dc-e5bdc2f1641a"
   },
   "outputs": [
    {
     "name": "stdout",
     "output_type": "stream",
     "text": [
      "[3, 6, 7, 8, 10]\n"
     ]
    }
   ],
   "source": [
    "#slicing - you may also remove them\n",
    "x[0:2] = []\n",
    "print(x)"
   ]
  },
  {
   "cell_type": "code",
   "execution_count": 80,
   "metadata": {
    "colab": {
     "base_uri": "https://localhost:8080/",
     "height": 35
    },
    "colab_type": "code",
    "id": "vfXvylrsMEVG",
    "outputId": "a7296d04-adbd-4461-b160-a34894a54b32"
   },
   "outputs": [
    {
     "name": "stdout",
     "output_type": "stream",
     "text": [
      "['Hello', ', ', 'World', '!']\n"
     ]
    }
   ],
   "source": [
    "#lists Concatenation\n",
    "x = [\"Hello\", \", \"]\n",
    "y = [\"World\", \"!\"]\n",
    "print(x + y)"
   ]
  },
  {
   "cell_type": "code",
   "execution_count": 81,
   "metadata": {
    "colab": {
     "base_uri": "https://localhost:8080/",
     "height": 52
    },
    "colab_type": "code",
    "id": "O4Az8QSqMEVS",
    "outputId": "9e200bf0-997c-4bd4-9fb2-1b1e65c09926"
   },
   "outputs": [
    {
     "name": "stdout",
     "output_type": "stream",
     "text": [
      "[', ', 'World']\n",
      ", \n"
     ]
    }
   ],
   "source": [
    "#lists within lists\n",
    "x = [\"Hello\", [\", \", \"World\"], \"!\"]\n",
    "print(x[1])\n",
    "print(x[1][0])"
   ]
  },
  {
   "cell_type": "code",
   "execution_count": 82,
   "metadata": {
    "colab": {
     "base_uri": "https://localhost:8080/",
     "height": 35
    },
    "colab_type": "code",
    "id": "_NPtvRK-O6Fp",
    "outputId": "bd3587e8-e96f-4576-cac6-bcfb71258586"
   },
   "outputs": [
    {
     "name": "stdout",
     "output_type": "stream",
     "text": [
      "[5, 7, 9]\n"
     ]
    }
   ],
   "source": [
    "#Sum two lists\n",
    "from operator import add\n",
    "\n",
    "list1 = [1,2,3]\n",
    "list2 = [4,5,6]\n",
    "listsum = list(map(add, list1, list2))\n",
    "# listsum = [i+j for i,j in zip(list1,list2)]\n",
    "print(listsum)"
   ]
  },
  {
   "cell_type": "markdown",
   "metadata": {
    "colab_type": "text",
    "id": "unAJCDFKPigL"
   },
   "source": [
    "####(2) NumPy"
   ]
  },
  {
   "cell_type": "markdown",
   "metadata": {
    "colab_type": "text",
    "id": "YT5dd7j8iF8u"
   },
   "source": [
    "NumPy is a fundamental computing package that supports multidimensional arrays."
   ]
  },
  {
   "cell_type": "code",
   "execution_count": 83,
   "metadata": {
    "colab": {},
    "colab_type": "code",
    "id": "JBQ7p5M_MEa4"
   },
   "outputs": [],
   "source": [
    "import numpy as np"
   ]
  },
  {
   "cell_type": "code",
   "execution_count": 84,
   "metadata": {
    "colab": {
     "base_uri": "https://localhost:8080/",
     "height": 35
    },
    "colab_type": "code",
    "id": "ws_Z5zB8uUEx",
    "outputId": "020c9e73-aca8-4961-fba9-2b981d9c09e0"
   },
   "outputs": [
    {
     "name": "stdout",
     "output_type": "stream",
     "text": [
      "[1.1 2.  3.2]\n"
     ]
    }
   ],
   "source": [
    "# array initialization \n",
    "arr  = np.array([1.1,2.0,3.2])\n",
    "print (arr)"
   ]
  },
  {
   "cell_type": "code",
   "execution_count": 85,
   "metadata": {
    "colab": {
     "base_uri": "https://localhost:8080/",
     "height": 122
    },
    "colab_type": "code",
    "id": "yqcMlm18MEa-",
    "outputId": "cd02af82-1330-431f-fd1c-157e4973eea0"
   },
   "outputs": [
    {
     "name": "stdout",
     "output_type": "stream",
     "text": [
      "[[1. 2. 3.]\n",
      " [4. 5. 6.]]\n",
      "[[1 2 3]\n",
      " [4 5 6]]\n",
      "shape: (2, 3)\n",
      "[1 2 3 4 5 6]\n"
     ]
    }
   ],
   "source": [
    "#array initialization from list\n",
    "#Type definition is available\n",
    "x = [[1,2,3],[4,5,6]]\n",
    "xnpf = np.array(x, dtype=np.float64)\n",
    "xnpi = np.array(x, dtype=np.int8)\n",
    "print(xnpf)\n",
    "print(xnpi)\n",
    "# get array shape (tuple of array dimensions)\n",
    "print(f\"shape: {xnpf.shape}\")\n",
    "#reshape\n",
    "r= np.reshape(x, 6)\n",
    "print(r)"
   ]
  },
  {
   "cell_type": "code",
   "execution_count": 86,
   "metadata": {
    "colab": {
     "base_uri": "https://localhost:8080/",
     "height": 312
    },
    "colab_type": "code",
    "id": "uuO607KSMEbL",
    "outputId": "635cc233-5bc5-4552-b87e-f949bddc17cc"
   },
   "outputs": [
    {
     "name": "stdout",
     "output_type": "stream",
     "text": [
      "[[1. 1. 1.]\n",
      " [1. 1. 1.]]\n",
      "shape: (2, 3)\n",
      "\n",
      "[[[0. 0.]\n",
      "  [0. 0.]\n",
      "  [0. 0.]]\n",
      "\n",
      " [[0. 0.]\n",
      "  [0. 0.]\n",
      "  [0. 0.]]\n",
      "\n",
      " [[0. 0.]\n",
      "  [0. 0.]\n",
      "  [0. 0.]]]\n",
      "shape: (3, 3, 2)\n",
      "\n"
     ]
    }
   ],
   "source": [
    "#array initialization from ones or zeros\n",
    "x = np.ones((2,3))\n",
    "#(channels,rows,columns)\n",
    "y = np.zeros((3,3,2))\n",
    "print(x)\n",
    "print(f\"shape: {x.shape}\\n\")\n",
    "print(y)\n",
    "print(f\"shape: {y.shape}\\n\")"
   ]
  },
  {
   "cell_type": "code",
   "execution_count": 87,
   "metadata": {
    "colab": {
     "base_uri": "https://localhost:8080/",
     "height": 87
    },
    "colab_type": "code",
    "id": "DKiE5esXMEbR",
    "outputId": "cc7d869b-c19d-4aa2-9689-ec3814799317"
   },
   "outputs": [
    {
     "name": "stdout",
     "output_type": "stream",
     "text": [
      "[[1. 0. 0. 0.]\n",
      " [0. 1. 0. 0.]\n",
      " [0. 0. 1. 0.]\n",
      " [0. 0. 0. 1.]]\n"
     ]
    }
   ],
   "source": [
    "#initialization of identity\n",
    "x = np.eye(4)\n",
    "y = np.identity(4)\n",
    "print(x)"
   ]
  },
  {
   "cell_type": "code",
   "execution_count": 88,
   "metadata": {
    "colab": {
     "base_uri": "https://localhost:8080/",
     "height": 52
    },
    "colab_type": "code",
    "id": "ubAb5IwLMEbb",
    "outputId": "9bf49a19-2e95-4a17-c4d7-2b065ddbe34e"
   },
   "outputs": [
    {
     "name": "stdout",
     "output_type": "stream",
     "text": [
      "[0 2 4 6 8]\n",
      "[0 2 4 6 8]\n"
     ]
    }
   ],
   "source": [
    "#define an array as a sequence of evenly spaced values\n",
    "print(np.arange(0,10,2))\n",
    "print(np.array(range(0,10,2)))"
   ]
  },
  {
   "cell_type": "code",
   "execution_count": 89,
   "metadata": {
    "colab": {
     "base_uri": "https://localhost:8080/",
     "height": 52
    },
    "colab_type": "code",
    "id": "dLifGUaKb7yt",
    "outputId": "c2e5c14d-af81-44ce-f6bf-c69dc2c629d5"
   },
   "outputs": [
    {
     "name": "stdout",
     "output_type": "stream",
     "text": [
      "6\n",
      "9\n"
     ]
    }
   ],
   "source": [
    "#Accessing array elements\n",
    "x = np.array([[1,2,3],[4,5,6],[7,8,9]])\n",
    "print(x[1,2])\n",
    "print(x[-1,2])"
   ]
  },
  {
   "cell_type": "code",
   "execution_count": 90,
   "metadata": {
    "colab": {
     "base_uri": "https://localhost:8080/",
     "height": 52
    },
    "colab_type": "code",
    "id": "dUW8SrVdMEbj",
    "outputId": "1664b443-e0be-47f0-b2df-9ed39d485ed4"
   },
   "outputs": [
    {
     "name": "stdout",
     "output_type": "stream",
     "text": [
      "['1' '2' '3']\n",
      "[1 2 3]\n"
     ]
    }
   ],
   "source": [
    "#cast to a specific type\n",
    "x = np.array([\"1\",\"2\",\"3\"])\n",
    "print(x)\n",
    "x = x.astype(np.int32)\n",
    "print(x)"
   ]
  },
  {
   "cell_type": "code",
   "execution_count": 91,
   "metadata": {
    "colab": {
     "base_uri": "https://localhost:8080/",
     "height": 433
    },
    "colab_type": "code",
    "id": "9LwDtmgXMEbr",
    "outputId": "82e847fc-5555-4852-f8fd-5c361845a541"
   },
   "outputs": [
    {
     "name": "stdout",
     "output_type": "stream",
     "text": [
      "[[ 3  4  3]\n",
      " [24 25 24]\n",
      " [ 2  2  2]]\n",
      "\n",
      "[[21 18 15]\n",
      " [54 45 36]\n",
      " [11  9  7]]\n",
      "\n",
      "[[ 4  4  4]\n",
      " [10 10 10]\n",
      " [ 3  3  3]]\n",
      "\n",
      "[[-2  0  2]\n",
      " [-2  0  2]\n",
      " [-1 -1 -1]]\n",
      "\n",
      "[[0.33333333 1.         3.        ]\n",
      " [0.66666667 1.         1.5       ]\n",
      " [0.5        0.5        0.5       ]]\n",
      "\n",
      "[[   1    4    3]\n",
      " [4096 3125 1296]\n",
      " [   1    1    1]]\n",
      "\n"
     ]
    }
   ],
   "source": [
    "#Arithematic operations between equal-sized arrays\n",
    "x = np.array([[1,2,3],[4,5,6],[1,1,1]])\n",
    "y = np.array([[3,2,1],[6,5,4],[2,2,2]])\n",
    "\n",
    "#Element-wise multiplication\n",
    "print(x*y) #print(np.multiply(x,y))\n",
    "print()\n",
    "#Matrix multiplication\n",
    "print(np.dot(x,y))\n",
    "print()\n",
    "print(x+y) #print(np.add(x,y))\n",
    "print()\n",
    "print(x-y) #print(np.subtract(x,y))\n",
    "print()\n",
    "print(x/y) #print(np.divide(x,y))\n",
    "print()\n",
    "print(x**y) #print(np.power(x,y))\n",
    "print()\n",
    "#print(np.sqrt(x))\n",
    "#print(np.exp(x))"
   ]
  },
  {
   "cell_type": "code",
   "execution_count": 92,
   "metadata": {
    "colab": {
     "base_uri": "https://localhost:8080/",
     "height": 260
    },
    "colab_type": "code",
    "id": "U8Ny5LK6MEby",
    "outputId": "cf45a44c-60a0-40eb-dc06-5df278088933"
   },
   "outputs": [
    {
     "name": "stdout",
     "output_type": "stream",
     "text": [
      "[[ 2  4  6]\n",
      " [ 8 10 12]]\n",
      "\n",
      "[[3 4 5]\n",
      " [6 7 8]]\n",
      "\n",
      "[[ 1  0 -1]\n",
      " [-2 -3 -4]]\n",
      "\n",
      "[[2.         1.         0.66666667]\n",
      " [0.5        0.4        0.33333333]]\n",
      "\n",
      "[[ 1  4  9]\n",
      " [16 25 36]]\n"
     ]
    }
   ],
   "source": [
    "#Arithematic operations between arrays and scalars\n",
    "x = np.array([[1,2,3],[4,5,6]])\n",
    "\n",
    "print(x*2)\n",
    "print()\n",
    "print(x+2)\n",
    "print()\n",
    "print(2-x)\n",
    "print()\n",
    "print(2/x)\n",
    "print()\n",
    "print(x**2)"
   ]
  },
  {
   "cell_type": "code",
   "execution_count": 93,
   "metadata": {
    "colab": {
     "base_uri": "https://localhost:8080/",
     "height": 251
    },
    "colab_type": "code",
    "id": "MTK6qqBXNN7B",
    "outputId": "c47fb682-a421-464f-bca3-773c320f3d31"
   },
   "outputs": [
    {
     "name": "stdout",
     "output_type": "stream",
     "text": [
      "[[-3  0 -3]\n",
      " [-5  1  1]\n",
      " [ 0 -1 -3]\n",
      " [ 5 -4 -6]\n",
      " [ 1 -5 -1]]\n",
      "\n",
      "[2.8 2.2 2.8]\n",
      "\n",
      "[2.         2.33333333 1.33333333 5.         2.33333333]\n",
      "\n",
      "[5 1 1]\n",
      "\n",
      "-6\n"
     ]
    }
   ],
   "source": [
    "#Some mathematical operations\n",
    "\n",
    "x = np.random.randint(-6,6,size=(5,3))\n",
    "print(x)\n",
    "print(\"\")\n",
    "#Get absolute value\n",
    "abs_values = np.abs(x)\n",
    "#Get mean\n",
    "print(np.mean(abs_values,axis=0))\n",
    "print(\"\")\n",
    "print(np.mean(abs_values,axis=1))\n",
    "print(\"\")\n",
    "#Get max\n",
    "print(np.amax(x,axis=0))\n",
    "print(\"\")\n",
    "#Get min\n",
    "print(np.amin(x))"
   ]
  },
  {
   "cell_type": "code",
   "execution_count": 94,
   "metadata": {
    "colab": {
     "base_uri": "https://localhost:8080/",
     "height": 277
    },
    "colab_type": "code",
    "id": "778yZb5IMEb5",
    "outputId": "797d3c18-5223-4613-9d62-5fd87885ae5d"
   },
   "outputs": [
    {
     "name": "stdout",
     "output_type": "stream",
     "text": [
      "[[[1. 1. 1. 1.]\n",
      "  [1. 1. 1. 1.]\n",
      "  [1. 1. 1. 1.]]\n",
      "\n",
      " [[1. 1. 1. 1.]\n",
      "  [1. 1. 1. 1.]\n",
      "  [1. 1. 1. 1.]]]\n",
      "\n",
      "[[[ 1. 10. 10. 10.]\n",
      "  [ 1. 10. 10. 10.]\n",
      "  [ 1.  1.  1.  1.]]\n",
      "\n",
      " [[ 1.  1.  1.  1.]\n",
      "  [ 1.  1.  1.  1.]\n",
      "  [ 1.  1.  1.  1.]]]\n"
     ]
    }
   ],
   "source": [
    "#array slices are just views and not copies\n",
    "x = np.ones((2,3,4))\n",
    "print(x)\n",
    "print(\"\")\n",
    "\n",
    "x_slice = x[0,:2,1:] # 1: means from 1 till the end, :2 means from the beginning till 2\n",
    "x_slice[:] = 10   #changing view(x_slice) changes original x\n",
    "print(x)"
   ]
  },
  {
   "cell_type": "code",
   "execution_count": 95,
   "metadata": {
    "colab": {
     "base_uri": "https://localhost:8080/",
     "height": 277
    },
    "colab_type": "code",
    "id": "etkAo73fMEb-",
    "outputId": "c52ea158-2b72-4e28-c978-1455e4d74108"
   },
   "outputs": [
    {
     "name": "stdout",
     "output_type": "stream",
     "text": [
      "[[[1. 1. 1. 1.]\n",
      "  [1. 1. 1. 1.]\n",
      "  [1. 1. 1. 1.]]\n",
      "\n",
      " [[1. 1. 1. 1.]\n",
      "  [1. 1. 1. 1.]\n",
      "  [1. 1. 1. 1.]]]\n",
      "\n",
      "[[[1. 1. 1. 1.]\n",
      "  [1. 1. 1. 1.]\n",
      "  [1. 1. 1. 1.]]\n",
      "\n",
      " [[1. 1. 1. 1.]\n",
      "  [1. 1. 1. 1.]\n",
      "  [1. 1. 1. 1.]]]\n"
     ]
    }
   ],
   "source": [
    "#array.copy() creates a copy\n",
    "x = np.ones((2,3,4))\n",
    "print(x)\n",
    "print(\"\")\n",
    "\n",
    "x_slice = x[0,:2,1:].copy()\n",
    "x_slice[:] = 10   #changing copy doesn't change original x\n",
    "print(x)"
   ]
  },
  {
   "cell_type": "code",
   "execution_count": 96,
   "metadata": {
    "colab": {
     "base_uri": "https://localhost:8080/",
     "height": 260
    },
    "colab_type": "code",
    "id": "90hSLqYQMEcF",
    "outputId": "5663ca5a-58c2-48a9-f71b-35e29cb506ab"
   },
   "outputs": [
    {
     "name": "stdout",
     "output_type": "stream",
     "text": [
      "[[-0.4839878  -1.49399336  0.33859822 -0.25787618]\n",
      " [ 1.1351274  -0.28301754  0.12578084 -1.14286248]\n",
      " [ 0.30953618  1.19928448  0.15465821 -1.02132965]\n",
      " [-1.20892259  0.43931266 -1.44093323 -0.79195036]]\n",
      "\n",
      "[[-0.4839878   1.1351274   0.30953618 -1.20892259]\n",
      " [-1.49399336 -0.28301754  1.19928448  0.43931266]\n",
      " [ 0.33859822  0.12578084  0.15465821 -1.44093323]\n",
      " [-0.25787618 -1.14286248 -1.02132965 -0.79195036]]\n",
      "\n",
      "[[-0.55003204  0.64595771 -0.48692177 -0.12512531]\n",
      " [-0.28443554 -0.28701951  0.42857622 -0.04589255]\n",
      " [ 0.60000058 -0.5094221   0.8140792  -0.51009469]\n",
      " [-0.40983725 -0.21839871 -0.50016277 -0.1690535 ]]\n"
     ]
    }
   ],
   "source": [
    "#transposing and inversing\n",
    "x = np.random.randn(4,4)\n",
    "print(x)\n",
    "print(\"\")\n",
    "print(x.T)\n",
    "print(\"\")\n",
    "print(np.linalg.inv(x))"
   ]
  },
  {
   "cell_type": "code",
   "execution_count": 97,
   "metadata": {
    "colab": {},
    "colab_type": "code",
    "id": "6JJzoV23MEcP"
   },
   "outputs": [
    {
     "name": "stdout",
     "output_type": "stream",
     "text": [
      "[[2 3 3]\n",
      " [3 1 2]\n",
      " [2 1 0]]\n",
      "11.000000000000002\n"
     ]
    }
   ],
   "source": [
    "#determinant\n",
    "x = np.random.randint(4, size=(3,3))\n",
    "print(x)\n",
    "print(np.linalg.det(x))"
   ]
  },
  {
   "cell_type": "code",
   "execution_count": 98,
   "metadata": {
    "colab": {},
    "colab_type": "code",
    "id": "KrvN19_UZ9EJ"
   },
   "outputs": [
    {
     "name": "stdout",
     "output_type": "stream",
     "text": [
      "(2, 3)\n",
      "(1, 3)\n",
      "[[ 4 10 12]\n",
      " [ 8 15 18]]\n"
     ]
    }
   ],
   "source": [
    "#Broadcasting \n",
    "x = np.array([[1,2,2],[2,3,3]])\n",
    "print(x.shape)\n",
    "y = np.array([[4,5,6]])\n",
    "print(y.shape)\n",
    "z = x*y\n",
    "print(z)"
   ]
  },
  {
   "cell_type": "markdown",
   "metadata": {
    "colab_type": "text",
    "id": "BwwQ-KD5Y64d"
   },
   "source": [
    "####(3) Pandas: \n",
    "is an open-source Python Library providing high-performance data manipulation and analysis tool using its powerful data structures."
   ]
  },
  {
   "cell_type": "code",
   "execution_count": 99,
   "metadata": {
    "colab": {},
    "colab_type": "code",
    "id": "HIIUY4TfY-up"
   },
   "outputs": [],
   "source": [
    "import pandas as pd"
   ]
  },
  {
   "cell_type": "code",
   "execution_count": 100,
   "metadata": {
    "colab": {},
    "colab_type": "code",
    "id": "5IhI1Dz1dZbj"
   },
   "outputs": [
    {
     "name": "stdout",
     "output_type": "stream",
     "text": [
      "     First  Second  Third\n",
      "1st     11      12     13\n",
      "2nd     14      15     16\n"
     ]
    }
   ],
   "source": [
    "#Creating DataFrame from list\n",
    "x = [[11,12,13],[14,15,16]]\n",
    "df = pd.DataFrame(x,index=['1st','2nd'], columns=['First','Second','Third'])\n",
    "print(df)"
   ]
  },
  {
   "cell_type": "code",
   "execution_count": 101,
   "metadata": {
    "colab": {},
    "colab_type": "code",
    "id": "i8-mBZZThnhq"
   },
   "outputs": [
    {
     "name": "stdout",
     "output_type": "stream",
     "text": [
      "1st    11\n",
      "2nd    14\n",
      "Name: First, dtype: int64\n",
      "\n",
      "     First  Second  Third  Fourth\n",
      "1st     11      12     13      45\n",
      "2nd     14      15     16      46\n",
      "\n",
      "     First  Second  Third  Fourth  Sum of 1st & 2nd\n",
      "1st     11      12     13      45                23\n",
      "2nd     14      15     16      46                29\n",
      "\n",
      "     First  Third  Fourth  Sum of 1st & 2nd\n",
      "1st     11     13      45                23\n",
      "2nd     14     16      46                29\n"
     ]
    }
   ],
   "source": [
    "#Column Selection, Addition and Deletion\n",
    "print(df['First']) #Selection\n",
    "print(\"\")\n",
    "df['Fourth'] = pd.Series([45,46],index=['1st','2nd']) #Addition\n",
    "print(df)\n",
    "print(\"\")\n",
    "df['Sum of 1st & 2nd'] = df['First']+df['Second'] #Addition relating exsiting columns\n",
    "print(df)\n",
    "print(\"\")\n",
    "del df['Second'] #Deletion\n",
    "print(df)"
   ]
  },
  {
   "cell_type": "code",
   "execution_count": 102,
   "metadata": {
    "colab": {},
    "colab_type": "code",
    "id": "G2Ns1S1sjvtK"
   },
   "outputs": [
    {
     "name": "stdout",
     "output_type": "stream",
     "text": [
      "First               11\n",
      "Third               13\n",
      "Fourth              45\n",
      "Sum of 1st & 2nd    23\n",
      "Name: 1st, dtype: int64\n",
      "\n",
      "First               11\n",
      "Third               13\n",
      "Fourth              45\n",
      "Sum of 1st & 2nd    23\n",
      "Name: 1st, dtype: int64\n",
      "\n",
      "     First  Third  Fourth  Sum of 1st & 2nd\n",
      "1st     11     13      45                23\n",
      "2nd     14     16      46                29\n",
      "3rd    100    101     102               103\n",
      "4th    201    202     203               204\n",
      "\n",
      "     First  Third  Fourth  Sum of 1st & 2nd\n",
      "1st     11     13      45                23\n",
      "2nd     14     16      46                29\n",
      "4th    201    202     203               204\n"
     ]
    }
   ],
   "source": [
    "#Row Selection, Addition and Deletion\n",
    "print(df.loc['1st']) #Selection\n",
    "print(\"\")\n",
    "print(df.iloc[0])#Selection with index number\n",
    "print(\"\")\n",
    "df2 = pd.DataFrame([[100,101,102,103],[201,202,203,204]],index = ['3rd','4th'],columns=['First','Third','Fourth','Sum of 1st & 2nd'])\n",
    "# reset index\n",
    "df = df.append(df2)\n",
    "print(df)\n",
    "print(\"\")\n",
    "df = df.drop('3rd')\n",
    "print(df)"
   ]
  },
  {
   "cell_type": "code",
   "execution_count": 103,
   "metadata": {
    "colab": {},
    "colab_type": "code",
    "id": "i8jDsO_9nDXi"
   },
   "outputs": [
    {
     "name": "stdout",
     "output_type": "stream",
     "text": [
      "   Height  Weight        Result\n",
      "0     140      90  not accepted\n",
      "1     190      88      accepted\n",
      "2     174      81      accepted\n",
      "3     183     130  not accepted\n",
      "4     168      72      accepted\n",
      "\n",
      "   Height  Weight  Result\n",
      "0     140      90       0\n",
      "1     190      88       1\n",
      "2     174      81       1\n",
      "3     183     130       0\n",
      "4     168      72       1\n"
     ]
    }
   ],
   "source": [
    "#Replacing data\n",
    "data = [[140,90,'not accepted'],[190,88,'accepted'],[174,81,'accepted'],[183,130,'not accepted'],[168,72,'accepted']]\n",
    "df = pd.DataFrame(data ,columns=['Height','Weight','Result'])\n",
    "print(df)\n",
    "print(\"\")\n",
    "df['Result'].replace(['not accepted','accepted'],[0,1],inplace=True)\n",
    "# use apply for more complex mapping with either lambda or defined functions i.e. weights<90 vs weights>90\n",
    "print(df)"
   ]
  },
  {
   "cell_type": "code",
   "execution_count": 104,
   "metadata": {
    "colab": {},
    "colab_type": "code",
    "id": "w74CEeDiqoRl"
   },
   "outputs": [
    {
     "name": "stdout",
     "output_type": "stream",
     "text": [
      "[[140  90   0]\n",
      " [190  88   1]\n",
      " [174  81   1]\n",
      " [183 130   0]\n",
      " [168  72   1]]\n"
     ]
    }
   ],
   "source": [
    "#Converting from DataFrame to NumPy array\n",
    "df_array = df.values\n",
    "print(df_array)"
   ]
  },
  {
   "cell_type": "markdown",
   "metadata": {
    "colab_type": "text",
    "id": "pKEEINKHMuIo"
   },
   "source": [
    "###Part 2: Implementing 2 Layer Neural Network using NumPy\n",
    "\n",
    "<img src=\"https://drive.google.com/open?id=1g-cPHHCygBjzLAccFK8a16w-08YOAL93\">"
   ]
  },
  {
   "cell_type": "markdown",
   "metadata": {
    "colab_type": "text",
    "id": "5TLNAT_eg8Jb"
   },
   "source": [
    "####(1) Importing required libraries "
   ]
  },
  {
   "cell_type": "code",
   "execution_count": 105,
   "metadata": {
    "colab": {},
    "colab_type": "code",
    "id": "SDk3qNurPrMe"
   },
   "outputs": [
    {
     "ename": "ModuleNotFoundError",
     "evalue": "No module named 'google'",
     "output_type": "error",
     "traceback": [
      "\u001b[0;31m---------------------------------------------------------------------------\u001b[0m",
      "\u001b[0;31mModuleNotFoundError\u001b[0m                       Traceback (most recent call last)",
      "\u001b[0;32m<ipython-input-105-916292b414c9>\u001b[0m in \u001b[0;36m<module>\u001b[0;34m\u001b[0m\n\u001b[1;32m      4\u001b[0m \u001b[0;32mfrom\u001b[0m \u001b[0msklearn\u001b[0m\u001b[0;34m.\u001b[0m\u001b[0mmodel_selection\u001b[0m \u001b[0;32mimport\u001b[0m \u001b[0mtrain_test_split\u001b[0m\u001b[0;34m\u001b[0m\u001b[0;34m\u001b[0m\u001b[0m\n\u001b[1;32m      5\u001b[0m \u001b[0;32mimport\u001b[0m \u001b[0mio\u001b[0m\u001b[0;34m\u001b[0m\u001b[0;34m\u001b[0m\u001b[0m\n\u001b[0;32m----> 6\u001b[0;31m \u001b[0;32mfrom\u001b[0m \u001b[0mgoogle\u001b[0m\u001b[0;34m.\u001b[0m\u001b[0mcolab\u001b[0m \u001b[0;32mimport\u001b[0m \u001b[0mfiles\u001b[0m\u001b[0;34m\u001b[0m\u001b[0;34m\u001b[0m\u001b[0m\n\u001b[0m\u001b[1;32m      7\u001b[0m \u001b[0;31m#use sklearn\u001b[0m\u001b[0;34m\u001b[0m\u001b[0;34m\u001b[0m\u001b[0;34m\u001b[0m\u001b[0m\n\u001b[1;32m      8\u001b[0m \u001b[0;31m#from sklearn.datasets import load_iris\u001b[0m\u001b[0;34m\u001b[0m\u001b[0;34m\u001b[0m\u001b[0;34m\u001b[0m\u001b[0m\n",
      "\u001b[0;31mModuleNotFoundError\u001b[0m: No module named 'google'"
     ]
    }
   ],
   "source": [
    "import pandas as pd\n",
    "import numpy as np\n",
    "import matplotlib.pyplot as plt\n",
    "from sklearn.model_selection import train_test_split\n",
    "import io\n",
    "from google.colab import files\n",
    "#use sklearn\n",
    "#from sklearn.datasets import load_iris"
   ]
  },
  {
   "cell_type": "markdown",
   "metadata": {
    "colab_type": "text",
    "id": "fUng9QWBhjQV"
   },
   "source": [
    "####(2) Loading data "
   ]
  },
  {
   "cell_type": "code",
   "execution_count": 189,
   "metadata": {
    "colab": {
     "base_uri": "https://localhost:8080/",
     "height": 260,
     "resources": {
      "http://localhost:8080/nbextensions/google.colab/files.js": {
       "data": "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",
       "headers": [
        [
         "content-type",
         "application/javascript"
        ]
       ],
       "ok": true,
       "status": 200,
       "status_text": ""
      }
     }
    },
    "colab_type": "code",
    "id": "HqiCmpHCfyZY",
    "outputId": "f2e8c5b8-0361-4d8d-a81c-7acb5aef64a8"
   },
   "outputs": [
    {
     "data": {
      "text/html": [
       "<div>\n",
       "<style scoped>\n",
       "    .dataframe tbody tr th:only-of-type {\n",
       "        vertical-align: middle;\n",
       "    }\n",
       "\n",
       "    .dataframe tbody tr th {\n",
       "        vertical-align: top;\n",
       "    }\n",
       "\n",
       "    .dataframe thead th {\n",
       "        text-align: right;\n",
       "    }\n",
       "</style>\n",
       "<table border=\"1\" class=\"dataframe\">\n",
       "  <thead>\n",
       "    <tr style=\"text-align: right;\">\n",
       "      <th></th>\n",
       "      <th>Id</th>\n",
       "      <th>SepalLengthCm</th>\n",
       "      <th>SepalWidthCm</th>\n",
       "      <th>PetalLengthCm</th>\n",
       "      <th>PetalWidthCm</th>\n",
       "      <th>Species</th>\n",
       "    </tr>\n",
       "  </thead>\n",
       "  <tbody>\n",
       "    <tr>\n",
       "      <th>0</th>\n",
       "      <td>1</td>\n",
       "      <td>5.1</td>\n",
       "      <td>3.5</td>\n",
       "      <td>1.4</td>\n",
       "      <td>0.2</td>\n",
       "      <td>Iris-setosa</td>\n",
       "    </tr>\n",
       "    <tr>\n",
       "      <th>1</th>\n",
       "      <td>2</td>\n",
       "      <td>4.9</td>\n",
       "      <td>3.0</td>\n",
       "      <td>1.4</td>\n",
       "      <td>0.2</td>\n",
       "      <td>Iris-setosa</td>\n",
       "    </tr>\n",
       "    <tr>\n",
       "      <th>2</th>\n",
       "      <td>3</td>\n",
       "      <td>4.7</td>\n",
       "      <td>3.2</td>\n",
       "      <td>1.3</td>\n",
       "      <td>0.2</td>\n",
       "      <td>Iris-setosa</td>\n",
       "    </tr>\n",
       "    <tr>\n",
       "      <th>3</th>\n",
       "      <td>4</td>\n",
       "      <td>4.6</td>\n",
       "      <td>3.1</td>\n",
       "      <td>1.5</td>\n",
       "      <td>0.2</td>\n",
       "      <td>Iris-setosa</td>\n",
       "    </tr>\n",
       "    <tr>\n",
       "      <th>4</th>\n",
       "      <td>5</td>\n",
       "      <td>5.0</td>\n",
       "      <td>3.6</td>\n",
       "      <td>1.4</td>\n",
       "      <td>0.2</td>\n",
       "      <td>Iris-setosa</td>\n",
       "    </tr>\n",
       "  </tbody>\n",
       "</table>\n",
       "</div>"
      ],
      "text/plain": [
       "   Id  SepalLengthCm  SepalWidthCm  PetalLengthCm  PetalWidthCm      Species\n",
       "0   1            5.1           3.5            1.4           0.2  Iris-setosa\n",
       "1   2            4.9           3.0            1.4           0.2  Iris-setosa\n",
       "2   3            4.7           3.2            1.3           0.2  Iris-setosa\n",
       "3   4            4.6           3.1            1.5           0.2  Iris-setosa\n",
       "4   5            5.0           3.6            1.4           0.2  Iris-setosa"
      ]
     },
     "execution_count": 189,
     "metadata": {},
     "output_type": "execute_result"
    }
   ],
   "source": [
    "#read data from csv file\n",
    "##uploaded = files.upload()\n",
    "iris = pd.read_csv('Iris.csv')\n",
    "\n",
    "pdi=pd.DataFrame(iris)\n",
    "#iris = load_iris()\n",
    "pdi.head()"
   ]
  },
  {
   "cell_type": "markdown",
   "metadata": {
    "colab_type": "text",
    "id": "AFWkqaIHhwh-"
   },
   "source": [
    "####(3) Helper functions"
   ]
  },
  {
   "cell_type": "markdown",
   "metadata": {
    "colab_type": "text",
    "id": "kXdEj4rZh4Vz"
   },
   "source": [
    "####(4) Preparing data (Preprocessing)"
   ]
  },
  {
   "cell_type": "code",
   "execution_count": 199,
   "metadata": {
    "colab": {},
    "colab_type": "code",
    "id": "Kc8HmU0VQEdd"
   },
   "outputs": [],
   "source": [
    "#Convert array to one-hot encoding\n",
    "import numpy as np\n",
    "##########TO BE DONE##########\n",
    "# Write a function that takes an array of numeric classes and turns it into\n",
    "# one-hot encoded array meaning that if we have [0,1,2], \n",
    "# it becomes [[1,0,0],[0,1,0],[0,0,1]]\n",
    "def to_one_hot(Y):\n",
    "    nclass=3\n",
    "    nclass=max(Y)+1\n",
    "    ny=len(Y)\n",
    "    one_hot_vec=np.zeros((ny,nclass))\n",
    "    \n",
    "\n",
    "##    binarized=np.zeros(len(Y))\n",
    "    for index, item in enumerate(Y):\n",
    "        if (item == 0):\n",
    "            vec=[1,0,0]\n",
    "##            one_hot_vec.append(vec,axis=1)\n",
    "            one_hot_vec[index]=vec\n",
    "        \n",
    "        if (item == 1):\n",
    "            vec=[0,1,0]\n",
    "            one_hot_vec[index]=vec\n",
    "\n",
    "\n",
    "        if (item == 2):\n",
    "            vec=[0,0,1]\n",
    "\n",
    "            one_hot_vec[index]=vec\n",
    "  \n",
    "            \n",
    "        vec_enc=np.array(one_hot_vec)\n",
    "        \n",
    "  \n",
    "    return vec_enc\n",
    "##############################\n",
    "  \n",
    "##########TO BE DONE##########\n",
    "# Write a function that takes an array and performs the sigmoid function on all \n",
    "# its elements\n",
    "# make it take two arguments, the firs one is the matrix and the second one\n",
    "# is a boolean input \"derivative\" which if true, it computer the derivative of\n",
    "# the sigmoid function. Make the default to be false\n",
    "def sigmoid(x, deriv = False):\n",
    "    sig = 1. / (1. + np.exp(-x))\n",
    "    out=sig\n",
    "    if deriv:\n",
    "         out=sig * (1. - sig)\n",
    "    return out\n",
    "  \n",
    "    \n",
    "##############################\n",
    "  \n",
    "  \n",
    "#Normalize array\n",
    "def normalize(X, axis=-1, order=2):\n",
    "    l2 = np.atleast_1d(np.linalg.norm(X, order, axis))\n",
    "    l2[l2 == 0] = 1\n",
    "    return X / np.expand_dims(l2, axis)"
   ]
  },
  {
   "cell_type": "code",
   "execution_count": 200,
   "metadata": {
    "colab": {
     "base_uri": "https://localhost:8080/",
     "height": 204
    },
    "colab_type": "code",
    "id": "WJHIj_YpF4A_",
    "outputId": "fb308c27-2c75-4f77-8cc4-3fd1a467d4e0"
   },
   "outputs": [
    {
     "name": "stdout",
     "output_type": "stream",
     "text": [
      "[[0. 1. 0.]\n",
      " [0. 1. 0.]\n",
      " [0. 0. 1.]\n",
      " [1. 0. 0.]]\n",
      "[0.549834   0.59868766 0.52497919]\n",
      "[[0.24751657 0.24026075]\n",
      " [0.23500371 0.22171287]\n",
      " [0.20550031 0.249999  ]]\n"
     ]
    },
    {
     "data": {
      "text/html": [
       "<div>\n",
       "<style scoped>\n",
       "    .dataframe tbody tr th:only-of-type {\n",
       "        vertical-align: middle;\n",
       "    }\n",
       "\n",
       "    .dataframe tbody tr th {\n",
       "        vertical-align: top;\n",
       "    }\n",
       "\n",
       "    .dataframe thead th {\n",
       "        text-align: right;\n",
       "    }\n",
       "</style>\n",
       "<table border=\"1\" class=\"dataframe\">\n",
       "  <thead>\n",
       "    <tr style=\"text-align: right;\">\n",
       "      <th></th>\n",
       "      <th>Id</th>\n",
       "      <th>SepalLengthCm</th>\n",
       "      <th>SepalWidthCm</th>\n",
       "      <th>PetalLengthCm</th>\n",
       "      <th>PetalWidthCm</th>\n",
       "      <th>Species</th>\n",
       "    </tr>\n",
       "  </thead>\n",
       "  <tbody>\n",
       "    <tr>\n",
       "      <th>0</th>\n",
       "      <td>1</td>\n",
       "      <td>5.1</td>\n",
       "      <td>3.5</td>\n",
       "      <td>1.4</td>\n",
       "      <td>0.2</td>\n",
       "      <td>0</td>\n",
       "    </tr>\n",
       "    <tr>\n",
       "      <th>1</th>\n",
       "      <td>2</td>\n",
       "      <td>4.9</td>\n",
       "      <td>3.0</td>\n",
       "      <td>1.4</td>\n",
       "      <td>0.2</td>\n",
       "      <td>0</td>\n",
       "    </tr>\n",
       "    <tr>\n",
       "      <th>2</th>\n",
       "      <td>3</td>\n",
       "      <td>4.7</td>\n",
       "      <td>3.2</td>\n",
       "      <td>1.3</td>\n",
       "      <td>0.2</td>\n",
       "      <td>0</td>\n",
       "    </tr>\n",
       "    <tr>\n",
       "      <th>3</th>\n",
       "      <td>4</td>\n",
       "      <td>4.6</td>\n",
       "      <td>3.1</td>\n",
       "      <td>1.5</td>\n",
       "      <td>0.2</td>\n",
       "      <td>0</td>\n",
       "    </tr>\n",
       "    <tr>\n",
       "      <th>4</th>\n",
       "      <td>5</td>\n",
       "      <td>5.0</td>\n",
       "      <td>3.6</td>\n",
       "      <td>1.4</td>\n",
       "      <td>0.2</td>\n",
       "      <td>0</td>\n",
       "    </tr>\n",
       "  </tbody>\n",
       "</table>\n",
       "</div>"
      ],
      "text/plain": [
       "   Id  SepalLengthCm  SepalWidthCm  PetalLengthCm  PetalWidthCm  Species\n",
       "0   1            5.1           3.5            1.4           0.2        0\n",
       "1   2            4.9           3.0            1.4           0.2        0\n",
       "2   3            4.7           3.2            1.3           0.2        0\n",
       "3   4            4.6           3.1            1.5           0.2        0\n",
       "4   5            5.0           3.6            1.4           0.2        0"
      ]
     },
     "execution_count": 200,
     "metadata": {},
     "output_type": "execute_result"
    }
   ],
   "source": [
    "##########TO BE DONE########## grade:\n",
    "#Data cleanup\n",
    "#Replace the species with 0, 1 or 2: From categorical data to numeric data\n",
    "vec=to_one_hot([1,1,2,0])\n",
    "print (vec)\n",
    "x3=np.array([ 0.2, 0.4, 0.1])\n",
    "sig_out=sigmoid(x3, deriv = False)\n",
    "print(sig_out)\n",
    "x2 = np.array([[0.2, 0.4], [0.5, 0.7], [0.9, .004]])\n",
    "sig_out2=sigmoid(x2, deriv = True)\n",
    "print(sig_out2)\n",
    "##for index, row in (pdi).iterrows():\n",
    "  \n",
    "iris[\"Species\"] = iris[\"Species\"].astype('category')\n",
    "iris[\"Species\"] = iris[\"Species\"].cat.codes\n",
    "\n",
    "\n",
    "pdi.head()\n",
    "##############################"
   ]
  },
  {
   "cell_type": "code",
   "execution_count": 201,
   "metadata": {
    "colab": {},
    "colab_type": "code",
    "id": "nPQiheKGGBlU"
   },
   "outputs": [
    {
     "name": "stdout",
     "output_type": "stream",
     "text": [
      "(150, 4)\n"
     ]
    }
   ],
   "source": [
    "#Get input\n",
    "columns1 = ['SepalLengthCm', 'SepalWidthCm', 'PetalLengthCm', 'PetalWidthCm']\n",
    "x = pd.DataFrame(pdi, columns=columns1)\n",
    "#x1=x.values\n",
    "x1 = normalize(x.values)\n",
    "print(x1.shape)"
   ]
  },
  {
   "cell_type": "code",
   "execution_count": 202,
   "metadata": {
    "colab": {},
    "colab_type": "code",
    "id": "IE8Oq4fyHDms"
   },
   "outputs": [
    {
     "name": "stdout",
     "output_type": "stream",
     "text": [
      "(150, 3)\n"
     ]
    }
   ],
   "source": [
    "#Get Output, flatten and encode to one-hot\n",
    "columns2 = ['Species']\n",
    "y = pd.DataFrame(pdi, columns=columns2)\n",
    "#Convert the DataFrame to NumPy array\n",
    "y = y.values\n",
    "#Set it to be one dimensional\n",
    "y = y.flatten()\n",
    "#Convert to one-hot encoded array size=(no_instances,no_attributes)\n",
    "y = to_one_hot(y)\n",
    "print(y.shape)\n"
   ]
  },
  {
   "cell_type": "markdown",
   "metadata": {
    "colab_type": "text",
    "id": "NsTW8tlgiA_C"
   },
   "source": [
    "####(5) Training"
   ]
  },
  {
   "cell_type": "code",
   "execution_count": 207,
   "metadata": {
    "colab": {
     "base_uri": "https://localhost:8080/",
     "height": 379
    },
    "colab_type": "code",
    "id": "csNm3fvAKNj9",
    "outputId": "efbee7da-0b63-4051-92fb-057c323070c2"
   },
   "outputs": [
    {
     "name": "stdout",
     "output_type": "stream",
     "text": [
      "3\n",
      "4\n",
      "[[-0.54088892 -0.88535181  0.54283243 -0.33611359 -0.14191798 -0.62373161\n",
      "  -0.93415579  0.54673418  0.38672705  0.29731697 -0.00454227 -0.34822444\n",
      "  -0.41166837  0.43800206 -0.08656438 -0.3443462   0.68678461 -0.91058414\n",
      "   0.61330967  0.88207057 -0.25215716  0.70713125  0.05318217  0.4505736\n",
      "   0.86875892  0.03908014  0.48586162 -0.84149572  0.08471386  0.99083422\n",
      "  -0.54869596 -0.08512094 -0.9472307   0.43240362 -0.67156332 -0.77172281\n",
      "  -0.64657934  0.51220354  0.46148638  0.21516542  0.74920659 -0.65851216\n",
      "  -0.82151073 -0.88779967  0.71956005 -0.53020541 -0.37957815 -0.19556344\n",
      "   0.51166932  0.34363122]\n",
      " [-0.65548366 -0.33538456 -0.70972894 -0.94674775  0.52417291  0.66001522\n",
      "   0.95990803  0.29755947 -0.77395834 -0.00611827  0.4813887   0.56327072\n",
      "   0.28544804 -0.34221499  0.36982233  0.49281513  0.00941892 -0.79117012\n",
      "  -0.44469696  0.22629365 -0.64397814 -0.00329558  0.9042563  -0.44715475\n",
      "  -0.16989352 -0.57600874  0.76481405 -0.0968095   0.38361525 -0.41548639\n",
      "  -0.38969135 -0.02487382  0.76153794  0.51150083  0.57489008 -0.11176978\n",
      "  -0.38516706 -0.06126808 -0.64735893 -0.14859561  0.38882873  0.44277937\n",
      "  -0.93299308  0.34364822 -0.35478481 -0.49196787  0.45077145 -0.43342489\n",
      "   0.29688203  0.30677523]\n",
      " [-0.72120474  0.49466848  0.74658651 -0.90495891 -0.34579022 -0.09290002\n",
      "  -0.74971795 -0.39154095 -0.05997882 -0.99033201  0.83541185  0.53976158\n",
      "  -0.8327203   0.02942095 -0.96613564  0.76336795  0.95656263  0.57730114\n",
      "  -0.57373599  0.76823331  0.14908544  0.4803373   0.38523335 -0.35963308\n",
      "  -0.29125721  0.64000754  0.57653085 -0.61842907 -0.03068247 -0.31755425\n",
      "  -0.29266841  0.94842377  0.63361694  0.69857062  0.39781086  0.31417812\n",
      "   0.62188223  0.96097008 -0.08541053 -0.7530292  -0.03352002 -0.65153367\n",
      "   0.26364352 -0.80581203  0.23566594  0.87414337 -0.87392636  0.57016104\n",
      "  -0.37937697  0.92801701]\n",
      " [-0.82455298 -0.521314    0.44022209 -0.58623847 -0.00310757 -0.1404603\n",
      "  -0.86771144 -0.16392511 -0.32553079  0.56064808  0.08924762 -0.92248809\n",
      "   0.69939423  0.81501738 -0.56541692  0.91729896 -0.72431031 -0.48095526\n",
      "   0.24899986 -0.15890529  0.17393578 -0.55136052  0.83065407  0.49054457\n",
      "  -0.71138405  0.09517292  0.83595786  0.19111141 -0.42956376 -0.75471189\n",
      "   0.53719907 -0.36545057  0.11654523 -0.36517074  0.05813732  0.68246471\n",
      "   0.22040221 -0.78768037 -0.78485297  0.44712551  0.72023131  0.90175664\n",
      "  -0.32727437 -0.8063416   0.46381063 -0.19674204 -0.21237241 -0.21248137\n",
      "  -0.68671993  0.602465  ]]\n",
      "[[ 0.20090766  0.39018622 -0.47302068]\n",
      " [-0.47447963 -0.83141763 -0.83738087]\n",
      " [ 0.08739735 -0.40090903 -0.99577589]\n",
      " [ 0.867142   -0.75270406 -0.18052275]\n",
      " [ 0.72662784  0.5213024  -0.32030316]\n",
      " [ 0.76824606 -0.4012304   0.20536898]\n",
      " [-0.5829065   0.24893054  0.54546333]\n",
      " [ 0.27348469  0.78581681  0.67540671]\n",
      " [ 0.08914882  0.42862381  0.08888252]\n",
      " [ 0.48724018 -0.60947182 -0.14878748]\n",
      " [ 0.38422823 -0.22073039  0.52086174]\n",
      " [ 0.90553348 -0.17544498  0.71155457]\n",
      " [ 0.5793786   0.37818209 -0.68854045]\n",
      " [ 0.49524825  0.90862676  0.50724222]\n",
      " [-0.86554481 -0.94831972  0.17555098]\n",
      " [ 0.99749861 -0.65523748  0.11019722]\n",
      " [-0.83933993  0.23039663 -0.61965418]\n",
      " [ 0.86842229  0.75428579 -0.65892832]\n",
      " [ 0.11672361 -0.50081985  0.65769656]\n",
      " [-0.78904182  0.74333791 -0.83554174]\n",
      " [-0.21701482 -0.38153143 -0.7351896 ]\n",
      " [-0.25795392  0.16412619  0.09794134]\n",
      " [ 0.35486248  0.51654734 -0.88054619]\n",
      " [ 0.75734538  0.82474982 -0.16830056]\n",
      " [-0.88602718 -0.18403446 -0.99275902]\n",
      " [-0.98277106  0.97626395  0.79303545]\n",
      " [ 0.61471479  0.67914597 -0.92931829]\n",
      " [-0.27650479  0.23190895  0.23293098]\n",
      " [ 0.76076603 -0.21318045 -0.2246359 ]\n",
      " [-0.28901734  0.00360276  0.63784543]\n",
      " [ 0.35769654 -0.092592    0.5107609 ]\n",
      " [-0.07129876  0.33071167  0.33031363]\n",
      " [-0.87957405  0.90393543 -0.28177632]\n",
      " [-0.59715606 -0.11162585  0.97622959]\n",
      " [ 0.36830479 -0.88317253 -0.22279038]\n",
      " [ 0.83988366 -0.80580576  0.2050481 ]\n",
      " [ 0.3026577   0.09703604  0.92864078]\n",
      " [-0.63758384 -0.85619498  0.31730737]\n",
      " [-0.70571685  0.94697188 -0.89652501]\n",
      " [ 0.01074292 -0.17667918 -0.08316709]\n",
      " [-0.34711173 -0.77838265  0.25855618]\n",
      " [ 0.88949081 -0.10426716  0.46526519]\n",
      " [-0.68109793  0.36505283  0.29880398]\n",
      " [-0.00272829 -0.73311501  0.58797407]\n",
      " [ 0.59863666 -0.74002286  0.39476246]\n",
      " [ 0.34667679 -0.03422161 -0.96320838]\n",
      " [ 0.1254297   0.6804799  -0.66361688]\n",
      " [-0.44964115  0.99722585 -0.03340698]\n",
      " [ 0.4001538   0.8025972  -0.47977581]\n",
      " [ 0.02422951  0.50313287  0.20719801]]\n"
     ]
    },
    {
     "data": {
      "image/png": "[encoded data removed]",
      "text/plain": [
       "<Figure size 432x288 with 1 Axes>"
      ]
     },
     "metadata": {
      "needs_background": "light"
     },
     "output_type": "display_data"
    },
    {
     "name": "stdout",
     "output_type": "stream",
     "text": [
      "Training Accuracy 99.6%\n"
     ]
    }
   ],
   "source": [
    "#Split data to training and validation data\n",
    "X_train, X_test, y_train, y_test = train_test_split(x1, y, test_size=0.33)\n",
    "\n",
    "###Main network with 2 layers###\n",
    "\n",
    "#number of iterations\n",
    "iter = 50000 \n",
    "n=X_train.shape[1]\n",
    "n_y=y_train.shape[1]\n",
    "print(n_y)\n",
    "print(n)\n",
    "n_h=50\n",
    "##########TO BE DONE##########\n",
    "#Initialize the weights of layer 2: Determine the size of the 2D array\n",
    "#Weights\n",
    "w0 = 2*np.random.random((n , n_h)) - 1\n",
    "w1 = 2*np.random.random(( n_h, n_y)) - 1\n",
    "##############################\n",
    "print(w0)\n",
    "print(w1)\n",
    "\n",
    "##########TO BE DONE##########\n",
    "#Determine the size of the bias array for layer 1\n",
    "#Bias\n",
    "w0_dims = w0.shape\n",
    "(r_w0,c_w0) = w0_dims\n",
    "b0 = np.zeros(( n, 1))\n",
    "##############################\n",
    "\n",
    "#learning rate\n",
    "sigma = 0.1\n",
    "\n",
    "#Errors array for every iteration\n",
    "errors = []\n",
    "\n",
    "#Train\n",
    "for i in range(iter):\n",
    "\n",
    "    ##########TO BE DONE##########\n",
    "    # the input to this function is the input data and the output is the label\n",
    "    #Feed forward\n",
    "    \n",
    "    a0 = X_train\n",
    "    a1=sigmoid(np.dot(a0,w0),deriv = False)\n",
    "    a2=sigmoid(np.dot(a1,w1),deriv = False)\n",
    "    \n",
    "    ##############################\n",
    "\n",
    "    #Back propagation using gradient descent\n",
    "    a2_error = y_train - a2\n",
    "    a2_delta = a2_error * sigmoid(a2, deriv=True)\n",
    "    \n",
    "    a1_error = a2_delta.dot(w1.T)\n",
    "    a1_delta = a1_error * sigmoid(a1, deriv=True)\n",
    "    \n",
    "    w1 += a1.T.dot(a2_delta) * sigma\n",
    "    w0 += a0.T.dot(a1_delta) * sigma\n",
    "    \n",
    "    error = np.mean(np.abs(a2_error))\n",
    "    errors.append(error)\n",
    "    accuracy = (1 - error) * 100\n",
    "\n",
    "#Plot the accuracy graph\n",
    "plt.plot(errors)\n",
    "plt.xlabel('Training')\n",
    "plt.ylabel('Error')\n",
    "plt.show()\n",
    "        \n",
    "print(\"Training Accuracy \" + str(round(accuracy,2)) + \"%\")"
   ]
  },
  {
   "cell_type": "markdown",
   "metadata": {
    "colab_type": "text",
    "id": "HVPUy4ZviEul"
   },
   "source": [
    "####(6) Validation"
   ]
  },
  {
   "cell_type": "code",
   "execution_count": 210,
   "metadata": {
    "colab": {
     "base_uri": "https://localhost:8080/",
     "height": 35
    },
    "colab_type": "code",
    "id": "Z2DY-ZYJLL-B",
    "outputId": "a80c745d-c859-4c37-869c-14045eaa572c"
   },
   "outputs": [
    {
     "name": "stdout",
     "output_type": "stream",
     "text": [
      "Validation Accuracy 92.63%\n"
     ]
    }
   ],
   "source": [
    "#Validation\n",
    "# We test our trained model to see how it performs on the test data\n",
    "##########TO BE DONE##########\n",
    "# the input to this part is the input test data with its labels and the output is the accuracy of the model\n",
    "#Feed forward\n",
    "a0 = X_test\n",
    " \n",
    "a1=sigmoid(np.dot(a0,w0),deriv = False)\n",
    "a2=sigmoid(np.dot(a1,w1),deriv = False)\n",
    "    \n",
    "    ##############################\n",
    "\n",
    "    #Back propagation using gradient descent\n",
    "a2_error = y_test - a2\n",
    "a2_delta = a2_error * sigmoid(a2, deriv=True)\n",
    "    \n",
    "a1_error = a2_delta.dot(w1.T)\n",
    "a1_delta = a1_error * sigmoid(a1, deriv=True)\n",
    "    \n",
    "w1 += a1.T.dot(a2_delta) * sigma\n",
    "w0 += a0.T.dot(a1_delta) * sigma\n",
    "    \n",
    "error = np.mean(np.abs(a2_error))\n",
    "errors.append(error)\n",
    "accuracy = (1 - error) * 100\n",
    "\n",
    "\n",
    "#############################\n",
    "print(\"Validation Accuracy \" + str(round(accuracy,2)) + \"%\")\n"
   ]
  },
  {
   "cell_type": "markdown",
   "metadata": {
    "colab_type": "text",
    "id": "6fd9tXMCr5OY"
   },
   "source": [
    "###References\n",
    "1- *https://pandas.pydata.org/pandas-docs/stable/* <br>\n",
    "2- *https://docs.scipy.org/doc/*"
   ]
  }
 ],
 "metadata": {
  "colab": {
   "collapsed_sections": [
    "JS2CLuIwPbZV",
    "K2jel9v2PfBc",
    "unAJCDFKPigL",
    "BwwQ-KD5Y64d",
    "pKEEINKHMuIo",
    "5TLNAT_eg8Jb",
    "fUng9QWBhjQV",
    "AFWkqaIHhwh-",
    "kXdEj4rZh4Vz",
    "NsTW8tlgiA_C",
    "HVPUy4ZviEul"
   ],
   "name": "Lab1_CIE555.ipynb",
   "provenance": [],
   "version": "0.3.2"
  },
  "kernelspec": {
   "display_name": "Python 3",
   "language": "python",
   "name": "python3"
  },
  "language_info": {
   "codemirror_mode": {
    "name": "ipython",
    "version": 3
   },
   "file_extension": ".py",
   "mimetype": "text/x-python",
   "name": "python",
   "nbconvert_exporter": "python",
   "pygments_lexer": "ipython3",
   "version": "3.7.1"
  }
 },
 "nbformat": 4,
 "nbformat_minor": 1
}
