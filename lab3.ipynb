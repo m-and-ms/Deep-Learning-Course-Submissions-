{
  "nbformat": 4,
  "nbformat_minor": 0,
  "metadata": {
    "colab": {
      "name": "Lab3_students.ipynb",
      "version": "0.3.2",
      "provenance": [],
      "collapsed_sections": [
        "TOGQrVyQYNX0",
        "3b2iuKDUk_EV",
        "XzNs0KRqY4FC",
        "raSloG1pg2l7",
        "ikS9YmQIg4aV",
        "r7U8QznZhDs3",
        "gf-0WXwIhH6B",
        "TMxYqPHZhO9s",
        "l3gt7Jb1hRNQ",
        "sC2L_Eys9gjy",
        "dthOZOtb9mQo",
        "wHbo5q5u--Ae",
        "BLKZm2vHOGHC",
        "EPMWNTw5OZ1f"
      ]
    },
    "kernelspec": {
      "name": "python3",
      "display_name": "Python 3"
    }
  },
  "cells": [
    {
      "metadata": {
        "id": "9u0QZrJpzZNu",
        "colab_type": "text"
      },
      "cell_type": "markdown",
      "source": [
        "<h4 align=\"right\">19th of February 2019</h4>\n",
        "<h1 align=\"center\">Neural Networks and Deep Learning (CIE 555)</h1>\n",
        "<h2 align=\"center\">Lab 3: PyTorch</h2> <br>"
      ]
    },
    {
      "metadata": {
        "id": "TOGQrVyQYNX0",
        "colab_type": "text"
      },
      "cell_type": "markdown",
      "source": [
        "###(1) Introduction to PyTorch"
      ]
    },
    {
      "metadata": {
        "id": "VECBUbyVYpzU",
        "colab_type": "code",
        "colab": {}
      },
      "cell_type": "code",
      "source": [
        "import torch\n",
        "import torch.nn as nn\n",
        "import torch.optim as optim\n",
        "import numpy as np\n",
        "from torch.autograd import Variable"
      ],
      "execution_count": 0,
      "outputs": []
    },
    {
      "metadata": {
        "id": "JDlrfbxJYS_D",
        "colab_type": "code",
        "outputId": "0d8450bb-e9e8-441a-eef1-0f9e672ef202",
        "colab": {
          "base_uri": "https://localhost:8080/",
          "height": 102
        }
      },
      "cell_type": "code",
      "source": [
        "#Tensors\n",
        "#Can be initialized from list, tuple, numpy array\n",
        "x = [[1,2,3],[4,5,6]]\n",
        "xten = torch.tensor(x, dtype=torch.float32) #xten = torch.tensor(x, dtype=torch.float32, device=torch.device('cpu'))\n",
        "print(xten)\n",
        "print(\"\")\n",
        "print(xten.size()) #like .shape in tensorflow and numpy\n",
        "print(xten.size()[1])"
      ],
      "execution_count": 17,
      "outputs": [
        {
          "output_type": "stream",
          "text": [
            "tensor([[1., 2., 3.],\n",
            "        [4., 5., 6.]])\n",
            "\n",
            "torch.Size([2, 3])\n",
            "3\n"
          ],
          "name": "stdout"
        }
      ]
    },
    {
      "metadata": {
        "id": "vIGrmPz_RUyy",
        "colab_type": "code",
        "outputId": "96bc1493-96bb-49e3-916d-aab2f53f17e2",
        "colab": {
          "base_uri": "https://localhost:8080/",
          "height": 68
        }
      },
      "cell_type": "code",
      "source": [
        "#Different tensor initializations\n",
        "x1 = torch.rand((2,3))\n",
        "x2 = torch.zeros((1,2))\n",
        "x2_like = torch.randn_like(x2)\n",
        "print(x2)\n",
        "print(x2_like)\n",
        "print(torch.numel(x1))"
      ],
      "execution_count": 16,
      "outputs": [
        {
          "output_type": "stream",
          "text": [
            "tensor([[0., 0.]])\n",
            "tensor([[0.8183, 3.0846]])\n",
            "6\n"
          ],
          "name": "stdout"
        }
      ]
    },
    {
      "metadata": {
        "id": "-EUBUlTTV2xX",
        "colab_type": "code",
        "outputId": "78195a16-99ed-4b2a-ca46-97abea72e274",
        "colab": {
          "base_uri": "https://localhost:8080/",
          "height": 204
        }
      },
      "cell_type": "code",
      "source": [
        "#Transpose and Inverse\n",
        "x1 = torch.randn((3,3))\n",
        "print(x1)\n",
        "print()\n",
        "print(torch.t(x1))\n",
        "print()\n",
        "print(torch.inverse(x1))"
      ],
      "execution_count": 15,
      "outputs": [
        {
          "output_type": "stream",
          "text": [
            "tensor([[-0.5987, -1.3442,  0.0800],\n",
            "        [ 0.2791,  0.0136,  0.2476],\n",
            "        [-2.3027, -0.3955, -1.3944]])\n",
            "\n",
            "tensor([[-0.5987,  0.2791, -2.3027],\n",
            "        [-1.3442,  0.0136, -0.3955],\n",
            "        [ 0.0800,  0.2476, -1.3944]])\n",
            "\n",
            "tensor([[  0.4166, -10.0509,  -1.7609],\n",
            "        [ -0.9543,   5.3736,   0.8995],\n",
            "        [ -0.4173,  15.0735,   1.9356]])\n"
          ],
          "name": "stdout"
        }
      ]
    },
    {
      "metadata": {
        "id": "hEbEuVay0WvY",
        "colab_type": "code",
        "outputId": "be9a12e0-bcfb-4137-fb4e-74ee2ac9bb06",
        "colab": {
          "base_uri": "https://localhost:8080/",
          "height": 102
        }
      },
      "cell_type": "code",
      "source": [
        "#Concatenation\n",
        "x0 = torch.tensor([[1,2,3]])\n",
        "x = torch.cat((x0,x0),0)\n",
        "print(x)\n",
        "print()\n",
        "#Select certain columns or rows\n",
        "ind = torch.index_select(x,1,torch.tensor([0,2]))\n",
        "print(ind)"
      ],
      "execution_count": 14,
      "outputs": [
        {
          "output_type": "stream",
          "text": [
            "tensor([[1, 2, 3],\n",
            "        [1, 2, 3]])\n",
            "\n",
            "tensor([[1, 3],\n",
            "        [1, 3]])\n"
          ],
          "name": "stdout"
        }
      ]
    },
    {
      "metadata": {
        "id": "YeLVt3bk2VT_",
        "colab_type": "code",
        "outputId": "bdfcf799-dee1-493d-d071-e4475155bde7",
        "colab": {
          "base_uri": "https://localhost:8080/",
          "height": 34
        }
      },
      "cell_type": "code",
      "source": [
        "#Reshaping\n",
        "x = torch.tensor([[1,2,3],[4,5,6]])\n",
        "y = torch.reshape(x,(1,-1))\n",
        "print(y)"
      ],
      "execution_count": 13,
      "outputs": [
        {
          "output_type": "stream",
          "text": [
            "tensor([[1, 2, 3, 4, 5, 6]])\n"
          ],
          "name": "stdout"
        }
      ]
    },
    {
      "metadata": {
        "id": "kfJJZzRc4ywK",
        "colab_type": "code",
        "outputId": "50aa0b38-fb14-49b9-b7d8-d9ac9d280d60",
        "colab": {
          "base_uri": "https://localhost:8080/",
          "height": 85
        }
      },
      "cell_type": "code",
      "source": [
        "###\n",
        "x = torch.randn((2,3))\n",
        "print(x)\n",
        "x = torch.clamp(x,min=0)\n",
        "print(x)"
      ],
      "execution_count": 12,
      "outputs": [
        {
          "output_type": "stream",
          "text": [
            "tensor([[ 0.9606, -0.0812, -0.4619],\n",
            "        [-0.3312, -1.0154,  0.1449]])\n",
            "tensor([[0.9606, 0.0000, 0.0000],\n",
            "        [0.0000, 0.0000, 0.1449]])\n"
          ],
          "name": "stdout"
        }
      ]
    },
    {
      "metadata": {
        "id": "QmPYH0FH5MOZ",
        "colab_type": "code",
        "outputId": "db5b3401-2e65-464f-dba4-41f9a118740e",
        "colab": {
          "base_uri": "https://localhost:8080/",
          "height": 34
        }
      },
      "cell_type": "code",
      "source": [
        "#Mathematical Operations\n",
        "x = torch.tensor([[-1,2,3],[4,5,6]])\n",
        "y = torch.tensor([[2,2,2],[2,2,2]])\n",
        "z = torch.add(x,y) #Addition\n",
        "z = torch.sub(x,y) #Subtraction\n",
        "z = torch.mul(x,y) #Element-wise multiplication\n",
        "z = torch.matmul(x,torch.t(y)) #Matrix multiplication\n",
        "z = torch.div(x,y) #Element-wise division\n",
        "z = torch.abs(x)\n",
        "#z = torch.mean(x)\n",
        "#z = torch.exp(x)\n",
        "z = torch.pow(x,y)\n",
        "#z = torch.sigmoid(x)\n",
        "z = torch.sum(y)\n",
        "print(z)"
      ],
      "execution_count": 11,
      "outputs": [
        {
          "output_type": "stream",
          "text": [
            "tensor(12)\n"
          ],
          "name": "stdout"
        }
      ]
    },
    {
      "metadata": {
        "id": "3b2iuKDUk_EV",
        "colab_type": "text"
      },
      "cell_type": "markdown",
      "source": [
        "###(2) Introduction to nn and optim"
      ]
    },
    {
      "metadata": {
        "id": "Z60TDD_clWj3",
        "colab_type": "code",
        "outputId": "c688e006-e074-43c7-ed0c-807252b845d7",
        "colab": {
          "base_uri": "https://localhost:8080/",
          "height": 34
        }
      },
      "cell_type": "code",
      "source": [
        "##Linear layer applies x*W.T+b\n",
        "a0 = torch.randn((130,4))\n",
        "L1 = nn.Linear(4,5)\n",
        "z1 = L1(a0)\n",
        "print(z1.size())"
      ],
      "execution_count": 19,
      "outputs": [
        {
          "output_type": "stream",
          "text": [
            "torch.Size([130, 5])\n"
          ],
          "name": "stdout"
        }
      ]
    },
    {
      "metadata": {
        "id": "yEtsNS7QtInH",
        "colab_type": "code",
        "colab": {}
      },
      "cell_type": "code",
      "source": [
        "##Activation functions\n",
        "z1 = torch.randn((130,5))\n",
        "sig1 = nn.Sigmoid()\n",
        "#sig1 = nn.ReLU()\n",
        "#sig1 = nn.LeakyReLU()\n",
        "#sig1 = nn.Tanh()\n",
        "a1 = sig1(z1)\n",
        "\n",
        "#Softmax\n",
        "#out1 = nn.Softmax()"
      ],
      "execution_count": 0,
      "outputs": []
    },
    {
      "metadata": {
        "id": "ep0ktaE6uMc9",
        "colab_type": "code",
        "outputId": "2104b295-13a5-486d-ec46-bb406f72803b",
        "colab": {
          "base_uri": "https://localhost:8080/",
          "height": 119
        }
      },
      "cell_type": "code",
      "source": [
        "##Feedforward in logistic regression\n",
        "a0 = torch.randn((100,4))\n",
        "L1 = nn.Linear(4,1)\n",
        "z1 = L1(a0)\n",
        "sig1 = nn.Sigmoid()\n",
        "a11 = sig1(z1)\n",
        "\n",
        "#OR\n",
        "\n",
        "model = nn.Sequential(nn.Linear(4,1), nn.Sigmoid())\n",
        "print(model)\n",
        "a1 = model(a0)\n",
        "\n",
        "print(a11.size())\n",
        "print(a1.size())\n"
      ],
      "execution_count": 21,
      "outputs": [
        {
          "output_type": "stream",
          "text": [
            "Sequential(\n",
            "  (0): Linear(in_features=4, out_features=1, bias=True)\n",
            "  (1): Sigmoid()\n",
            ")\n",
            "torch.Size([100, 1])\n",
            "torch.Size([100, 1])\n"
          ],
          "name": "stdout"
        }
      ]
    },
    {
      "metadata": {
        "id": "ucok1UwPxphM",
        "colab_type": "code",
        "colab": {}
      },
      "cell_type": "code",
      "source": [
        "##Back propagation\n",
        "lossfun = nn.CrossEntropyLoss()\n",
        "optimizer = torch.optim.SGD(model.parameters(), lr=0.01) \n",
        "optimizer.zero_grad() #zero gradients to not accumulate\n",
        "#loss = lossfun(a1, y_train) #calculate loss\n",
        "#loss.backward() #update weights based on loss\n",
        "#optimizer.step() #update optimizer for next iteration"
      ],
      "execution_count": 0,
      "outputs": []
    },
    {
      "metadata": {
        "id": "XzNs0KRqY4FC",
        "colab_type": "text"
      },
      "cell_type": "markdown",
      "source": [
        "###(3) Implementing 2-layer Neural Network using PyTorch"
      ]
    },
    {
      "metadata": {
        "id": "raSloG1pg2l7",
        "colab_type": "text"
      },
      "cell_type": "markdown",
      "source": [
        "####Imports"
      ]
    },
    {
      "metadata": {
        "id": "jdzG3f_gY9r3",
        "colab_type": "code",
        "colab": {}
      },
      "cell_type": "code",
      "source": [
        "from sklearn.datasets import load_iris\n",
        "from sklearn.preprocessing import OneHotEncoder\n",
        "from sklearn.model_selection import train_test_split\n",
        "import torch\n",
        "import numpy as np\n",
        "import matplotlib.pyplot as plt"
      ],
      "execution_count": 0,
      "outputs": []
    },
    {
      "metadata": {
        "id": "ikS9YmQIg4aV",
        "colab_type": "text"
      },
      "cell_type": "markdown",
      "source": [
        "####Data loading and preprocessing"
      ]
    },
    {
      "metadata": {
        "id": "XGDoTpV5ZRSS",
        "colab_type": "code",
        "colab": {}
      },
      "cell_type": "code",
      "source": [
        "iris = load_iris()\n",
        "x = iris['data']\n",
        "y = iris['target']\n",
        "enc = OneHotEncoder(categories='auto')\n",
        "y = enc.fit_transform(y.reshape(-1,1)).A.astype(np.float32)\n",
        "x_train, x_test, y_train, y_test = train_test_split(x, y, test_size=0.33)"
      ],
      "execution_count": 0,
      "outputs": []
    },
    {
      "metadata": {
        "id": "r7U8QznZhDs3",
        "colab_type": "text"
      },
      "cell_type": "markdown",
      "source": [
        "####Helper functions"
      ]
    },
    {
      "metadata": {
        "id": "QWfGCwHAbK2X",
        "colab_type": "code",
        "colab": {}
      },
      "cell_type": "code",
      "source": [
        "def sigmoid(x, deriv=False):\n",
        "  sig = torch.sigmoid(x)\n",
        "  if deriv:\n",
        "    sig = sig*(1-sig)\n",
        "  return sig"
      ],
      "execution_count": 0,
      "outputs": []
    },
    {
      "metadata": {
        "id": "gf-0WXwIhH6B",
        "colab_type": "text"
      },
      "cell_type": "markdown",
      "source": [
        "####Converting numpy arrays to torch tensors"
      ]
    },
    {
      "metadata": {
        "id": "2RUBW6twZaAP",
        "colab_type": "code",
        "colab": {}
      },
      "cell_type": "code",
      "source": [
        "x_trainv = torch.tensor(x_train, requires_grad = False, dtype=torch.float32)\n",
        "y_trainv = torch.tensor(y_train, requires_grad = False, dtype=torch.float32)\n",
        "x_testv = torch.tensor(x_test, requires_grad = False, dtype=torch.float32)\n",
        "y_testv = torch.tensor(y_test, requires_grad = False, dtype=torch.float32)"
      ],
      "execution_count": 0,
      "outputs": []
    },
    {
      "metadata": {
        "id": "TMxYqPHZhO9s",
        "colab_type": "text"
      },
      "cell_type": "markdown",
      "source": [
        "####Training"
      ]
    },
    {
      "metadata": {
        "id": "MyDF2G6_ZrwY",
        "colab_type": "code",
        "outputId": "9e70a3d9-f2e8-4d44-9100-a9518a376bfa",
        "colab": {
          "base_uri": "https://localhost:8080/",
          "height": 378
        }
      },
      "cell_type": "code",
      "source": [
        "n_in = x_trainv.size()[1]\n",
        "n_h = 5\n",
        "n_out = y_trainv.size()[1]\n",
        "\n",
        "\n",
        "torch.manual_seed(1)\n",
        "w0 = torch.randn((n_in,n_h))\n",
        "w1 = torch.randn((n_h,n_out))\n",
        "\n",
        "sigma = 0.01\n",
        "errors = []\n",
        "\n",
        "for i in range(2000):\n",
        "  #Feed forward\n",
        "  a0 = x_trainv\n",
        "  a1 = sigmoid(torch.matmul(a0,w0))\n",
        "  a2 = sigmoid(torch.matmul(a1,w1))\n",
        "  \n",
        "  #Back propagation using gradient descent\n",
        "  a2_error = y_trainv - a2\n",
        "  a2_delta = a2_error * sigmoid(a2, deriv=True)\n",
        "    \n",
        "  a1_error = torch.matmul(a2_delta,torch.transpose(w1,0,1))\n",
        "  a1_delta = a1_error * sigmoid(a1, deriv=True)\n",
        "    \n",
        "  w1 += torch.matmul(torch.transpose(a1,0,1),a2_delta) * sigma \n",
        "  w0 += torch.matmul(torch.transpose(a0,0,1),a1_delta) * sigma \n",
        "  \n",
        "  ####### TO BE DONE ######### 10% Time: 4 mins\n",
        "  #Write the error formula given the the error between the output layer and the labels: (a2_error)\n",
        "  error=torch.mean((a2_error)**2).detach().item()\n",
        "\n",
        "  ############################\n",
        "  errors.append(error)\n",
        "  accuracy = (1 - error) * 100\n",
        "  ################\n",
        " \n",
        "\n",
        "\n",
        "#Plot the accuracy graph\n",
        "plt.plot(errors)\n",
        "plt.xlabel('Training')\n",
        "plt.ylabel('Error')\n",
        "plt.show()\n",
        "        \n",
        "print(\"Training Accuracy \" + str(round(accuracy,2)) + \"%\")\n",
        "  \n"
      ],
      "execution_count": 39,
      "outputs": [
        {
          "output_type": "display_data",
          "data": {
            "image/png": "[encoded data removed]",
            "text/plain": [
              "<Figure size 576x396 with 1 Axes>"
            ]
          },
          "metadata": {
            "tags": []
          }
        },
        {
          "output_type": "stream",
          "text": [
            "Training Accuracy 98.75%\n"
          ],
          "name": "stdout"
        }
      ]
    },
    {
      "metadata": {
        "id": "l3gt7Jb1hRNQ",
        "colab_type": "text"
      },
      "cell_type": "markdown",
      "source": [
        "####Validation"
      ]
    },
    {
      "metadata": {
        "id": "ZdeOR03zf-4W",
        "colab_type": "code",
        "outputId": "168e3cf1-3f40-45ff-fe8a-7b1045c465cc",
        "colab": {
          "base_uri": "https://localhost:8080/",
          "height": 34
        }
      },
      "cell_type": "code",
      "source": [
        "#Validation\n",
        "torch.manual_seed(1)\n",
        "\n",
        "a0t = x_testv\n",
        "a1t = sigmoid(torch.matmul(a0t,w0))\n",
        "a2t = sigmoid(torch.matmul(a1t,w1))\n",
        "a2_errort = y_testv - a2t\n",
        "error=torch.mean((a2_errort)**2).detach().item()\n",
        "\n",
        "\n",
        "\n",
        "####### TO BE DONE ######### 10% Time: 7 mins\n",
        "#Write the validation line codes to test your model\n",
        "\n",
        "\n",
        "\n",
        "\n",
        "############################\n",
        "\n",
        "accuracy = (1 - error) * 100\n",
        "print(\"Validation Accuracy \" + str(round(accuracy,2)) + \"%\")"
      ],
      "execution_count": 38,
      "outputs": [
        {
          "output_type": "stream",
          "text": [
            "Validation Accuracy 97.88%\n"
          ],
          "name": "stdout"
        }
      ]
    },
    {
      "metadata": {
        "id": "UJKq_QDNYBQa",
        "colab_type": "text"
      },
      "cell_type": "markdown",
      "source": [
        "###(4) Implementing 2-layer Neural Network using nn and optim"
      ]
    },
    {
      "metadata": {
        "id": "sC2L_Eys9gjy",
        "colab_type": "text"
      },
      "cell_type": "markdown",
      "source": [
        "####Imports"
      ]
    },
    {
      "metadata": {
        "id": "1ltNJEUBzkTQ",
        "colab_type": "code",
        "colab": {}
      },
      "cell_type": "code",
      "source": [
        "from sklearn.datasets import load_iris\n",
        "from sklearn.preprocessing import OneHotEncoder\n",
        "from sklearn.model_selection import train_test_split\n",
        "import torch\n",
        "import torch.nn as nn\n",
        "import torch.optim as optim\n",
        "from torch.autograd import Variable\n",
        "import numpy as np\n",
        "import matplotlib.pyplot as plt "
      ],
      "execution_count": 0,
      "outputs": []
    },
    {
      "metadata": {
        "id": "dthOZOtb9mQo",
        "colab_type": "text"
      },
      "cell_type": "markdown",
      "source": [
        "####Data loading"
      ]
    },
    {
      "metadata": {
        "id": "bPiMGUtg2U86",
        "colab_type": "code",
        "colab": {}
      },
      "cell_type": "code",
      "source": [
        "iris = load_iris()\n",
        "x = iris['data']\n",
        "y = iris['target']\n",
        "enc = OneHotEncoder(categories='auto')\n",
        "y = enc.fit_transform(y.reshape(-1,1)).A.astype(np.float32)\n",
        "x_train, x_test, y_train, y_test = train_test_split(x, y, test_size=0.33)"
      ],
      "execution_count": 0,
      "outputs": []
    },
    {
      "metadata": {
        "id": "wHbo5q5u--Ae",
        "colab_type": "text"
      },
      "cell_type": "markdown",
      "source": [
        "####Converting numpy arrays into torch.tensor"
      ]
    },
    {
      "metadata": {
        "id": "1xZ0sv7f33pW",
        "colab_type": "code",
        "colab": {}
      },
      "cell_type": "code",
      "source": [
        "x_trainv = torch.tensor(x_train, requires_grad = False, dtype=torch.float32)\n",
        "y_trainv = torch.tensor(y_train, requires_grad = False, dtype=torch.float32)\n",
        "x_testv = torch.tensor(x_test, requires_grad = False, dtype=torch.float32)\n",
        "y_testv = torch.tensor(y_test, requires_grad = False, dtype=torch.float32)"
      ],
      "execution_count": 0,
      "outputs": []
    },
    {
      "metadata": {
        "id": "BLKZm2vHOGHC",
        "colab_type": "text"
      },
      "cell_type": "markdown",
      "source": [
        "####Building model, loss function, and back propagation"
      ]
    },
    {
      "metadata": {
        "id": "GBRd5L7A50Bv",
        "colab_type": "code",
        "colab": {}
      },
      "cell_type": "code",
      "source": [
        "num_in = x.shape[1]\n",
        "num_h = 5\n",
        "num_out = y.shape[1]\n",
        "learning_rate=0.001\n",
        "model = nn.Sequential()\n",
        "f0n = nn.Linear(num_in, num_h)\n",
        "f1n=nn.Linear(num_h, num_out)\n",
        "sig=nn.Sigmoid()\n",
        "\n",
        "model = []\n",
        "model.append(f0n)\n",
        "model.append(sig)\n",
        "model.append(f1n)\n",
        "model.append(sig)\n",
        "\n",
        "net = nn.Sequential(*model)\n",
        "######## TO BE DONE ########## 15% Time: 5 mins\n",
        "#Build your model \n",
        "\n",
        "\n",
        "##############################\n",
        "\n",
        "criterion = nn.MSELoss()\n",
        "criterion2 = nn.CrossEntropyLoss()\n",
        "optimizer = torch.optim.Adam(net.parameters(), lr=learning_rate)  \n",
        "\n",
        "######## TO BE DONE ########## 15% Time: 4 mins\n",
        "#Define your optimization module. Use Adam optimization\n",
        "\n",
        "##############################"
      ],
      "execution_count": 0,
      "outputs": []
    },
    {
      "metadata": {
        "id": "EPMWNTw5OZ1f",
        "colab_type": "text"
      },
      "cell_type": "markdown",
      "source": [
        "####Running model"
      ]
    },
    {
      "metadata": {
        "id": "oylMe2Ho7mG8",
        "colab_type": "code",
        "outputId": "64a9869a-8d83-4503-f93b-4fe7c8e9c97d",
        "colab": {
          "base_uri": "https://localhost:8080/",
          "height": 381
        }
      },
      "cell_type": "code",
      "source": [
        "all_losses = []\n",
        "for num in range(7000): #7000 iterations\n",
        "  inputs, labels = x_trainv, y_trainv\n",
        "  outputs = net(inputs)\n",
        "\n",
        "  optimizer.zero_grad()\n",
        "  loss = criterion(outputs, labels)\n",
        "  loss.backward()\n",
        "  optimizer.step()\n",
        "  #print(loss.item())\n",
        "\n",
        "\n",
        "\n",
        "  \n",
        "  ######## TO BE DONE ########## 30% Time: 20 mins\n",
        "  #Predict the output of your model\n",
        "  #Calculate loss\n",
        "  #Append the loss to all_losses list\n",
        "  #Delete the accumulated gradient\n",
        "  #update weights based on loss function you defined earlier\n",
        "  all_losses.append(loss)\n",
        "\n",
        "  \n",
        "  \n",
        "  \n",
        "  \n",
        "  ##############################\n",
        "  \n",
        "   #update optimizer for next iteration\n",
        "    \n",
        "\n",
        "all_losses = np.array(all_losses, dtype = np.float)\n",
        "print(all_losses)\n",
        "plt.plot(all_losses)\n",
        "plt.show()\n",
        "\n",
        "print(\"Training accuracy = \" + str(round(100-(all_losses[-1]*100),2)) + \" %\")\n"
      ],
      "execution_count": 81,
      "outputs": [
        {
          "output_type": "stream",
          "text": [
            "[0.26459062 0.26417854 0.26376754 ... 0.00787736 0.00787645 0.00787555]\n"
          ],
          "name": "stdout"
        },
        {
          "output_type": "display_data",
          "data": {
            "image/png": "[encoded data removed]",
            "text/plain": [
              "<Figure size 576x396 with 1 Axes>"
            ]
          },
          "metadata": {
            "tags": []
          }
        },
        {
          "output_type": "stream",
          "text": [
            "Training accuracy = 99.21 %\n"
          ],
          "name": "stdout"
        }
      ]
    },
    {
      "metadata": {
        "id": "Z7QImpnhOdGG",
        "colab_type": "text"
      },
      "cell_type": "markdown",
      "source": [
        "####Validation"
      ]
    },
    {
      "metadata": {
        "id": "x9mwkenCBxdd",
        "colab_type": "code",
        "outputId": "62025ded-e08a-4d2d-a68e-072a99f201b9",
        "colab": {
          "base_uri": "https://localhost:8080/",
          "height": 34
        }
      },
      "cell_type": "code",
      "source": [
        "#Validation\n",
        "\n",
        "######## TO BE DONE ########## 20% Time: 10 mins\n",
        "#Validate your model for the test set, and then get the loss\n",
        "test_out=net(x_testv)\n",
        "loss = criterion(test_out, y_testv)\n",
        "\n",
        "\n",
        "##############################\n",
        "\n",
        "print(\"Validation accuracy = \" + str(round(100-(loss.item()*100),2)) + \" %\")\n"
      ],
      "execution_count": 82,
      "outputs": [
        {
          "output_type": "stream",
          "text": [
            "Validation accuracy = 98.32 %\n"
          ],
          "name": "stdout"
        }
      ]
    }
  ]
}